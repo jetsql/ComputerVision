{
 "cells": [
  {
   "cell_type": "markdown",
   "metadata": {},
   "source": [
    "## 載入套件"
   ]
  },
  {
   "cell_type": "code",
   "execution_count": 13,
   "metadata": {},
   "outputs": [],
   "source": [
    "# predict\n",
    "import os,shutil,sys#建資料夾用\n",
    "import time #sleep用\n",
    "import argparse\n",
    "import json\n",
    "import cv2\n",
    "from utils.utils import get_yolo_boxes, makedirs\n",
    "from utils.bbox import draw_boxes\n",
    "from tqdm import tqdm\n",
    "import numpy as np\n",
    "import matplotlib.pyplot as plt\n",
    "%matplotlib inline\n",
    "import math\n",
    "import pandas as pd\n",
    "from keras.models import load_model#載入h5檔案使用\n",
    "import tensorflow as tf\n",
    "import glob"
   ]
  },
  {
   "cell_type": "markdown",
   "metadata": {},
   "source": [
    "## 初始設定載入"
   ]
  },
  {
   "cell_type": "code",
   "execution_count": 11,
   "metadata": {},
   "outputs": [],
   "source": [
    "'''\n",
    "首先需要一個training後的.h5結構權重檔案\n",
    "參考權重檔(另一種載入方法)\n",
    "https://stackoverflow.com/questions/53295570/userwarning-no-training-configuration-found-in-save-file-the-model-was-not-c\n",
    "'''\n",
    "infer_model = load_model('H:\\\\predict_model\\\\imt_yolo3.h5',compile=False)"
   ]
  },
  {
   "cell_type": "code",
   "execution_count": 14,
   "metadata": {},
   "outputs": [],
   "source": [
    "#建立資料夾\n",
    "def emtydir(dirname):\n",
    "    if os.path.isdir(dirname):\n",
    "        shutil.rmtree(dirname)\n",
    "        time.sleep(2)\n",
    "    os.mkdir(dirname)\n",
    "#測試資料夾\n",
    "def load_dataset(path):\n",
    "    try:\n",
    "        file=glob.glob(path+'*.jpg')\n",
    "        count=0\n",
    "        for i,f in enumerate(file):\n",
    "            count=count+i\n",
    "        print(\"路徑正常有\",i,\"個影像\")\n",
    "    except:\n",
    "        print(\"檔案問題\")"
   ]
  },
  {
   "cell_type": "code",
   "execution_count": 15,
   "metadata": {},
   "outputs": [],
   "source": [
    "#輸入進來的測試路徑\n",
    "input_path   = 'H:\\\\test\\\\'\n",
    "#標框結果存檔路徑\n",
    "output_path  = 'H:\\\\Result\\\\'\n",
    "\n",
    "#新建Folder\n",
    "emtydir(output_path)\n",
    "load_dataset('H:\\\\test\\\\')\n",
    "#輸出路徑正常有15個檔案"
   ]
  },
  {
   "cell_type": "markdown",
   "metadata": {},
   "source": [
    "### Anchors設置(不需要)"
   ]
  },
  {
   "cell_type": "code",
   "execution_count": null,
   "metadata": {},
   "outputs": [],
   "source": [
    "ROOT_PATH = 'H:/predict_model/'\n",
    "# 數量\n",
    "CLUSTERS = 6\n",
    "# 影像尺寸\n",
    "SIZE = 640\n",
    "\n",
    "# 格式\n",
    "def load_dataset(path):\n",
    "    jpegimages = os.path.join(path, 'JPEGImages')\n",
    "    if not os.path.exists(jpegimages):\n",
    "        print('沒照片')\n",
    "        sys.exit(0)\n",
    "\n",
    "    label_file = os.listdir(labels_txt)\n",
    "    print('label count: {}'.format(len(label_file)))\n",
    "    dataset = []\n",
    "\n",
    "    for label in label_file:\n",
    "        with open(os.path.join(labels_txt, label), 'r') as f:\n",
    "            txt_content = f.readlines()\n",
    "\n",
    "        for line in txt_content:\n",
    "            line_split = line.split(' ')\n",
    "            roi_with = float(line_split[len(line_split)-2])\n",
    "            roi_height = float(line_split[len(line_split)-1])\n",
    "            if roi_with == 0 or roi_height == 0:\n",
    "                continue\n",
    "            dataset.append([roi_with, roi_height])\n",
    "            # print([roi_with, roi_height])\n",
    "\n",
    "    return np.array(dataset)\n",
    "\n",
    "data = load_dataset(ROOT_PATH)\n",
    "out = kmeans(data, k=CLUSTERS)\n",
    "\n",
    "print(out)\n",
    "print(\"Accuracy: {:.2f}%\".format(avg_iou(data, out) * 100))\n",
    "print(\"Boxes:\\n {}-{}\".format(out[:, 0] * SIZE, out[:, 1] * SIZE))\n",
    "\n",
    "ratios = np.around(out[:, 0] / out[:, 1], decimals=2).tolist()\n",
    "print(\"Ratios:\\n {}\".format(sorted(ratios)))"
   ]
  },
  {
   "cell_type": "markdown",
   "metadata": {},
   "source": [
    "## 比對缺值"
   ]
  },
  {
   "cell_type": "code",
   "execution_count": null,
   "metadata": {},
   "outputs": [],
   "source": [
    "def different(list_1,list_2)\n",
    "    return (list(set(list_1).symmetric_difference(set(list_2))))"
   ]
  },
  {
   "cell_type": "markdown",
   "metadata": {},
   "source": [
    "## 製作撈座標function"
   ]
  },
  {
   "cell_type": "code",
   "execution_count": 1,
   "metadata": {},
   "outputs": [],
   "source": [
    "#傳boxes進來\n",
    "def coordinate(boxes):\n",
    "    print(\"==========驗證==========\")\n",
    "    labels = ['Mark_X','Mark_Y','X','Y'] \n",
    "    #box字典\n",
    "    label_list=[]\n",
    "    #比對\n",
    "    compare=[]\n",
    "    #存放結果表格，用字典建\n",
    "    label_dir={'label':[],\n",
    "             'x1':[],\n",
    "             'y1':[],\n",
    "             'x2':[],\n",
    "             'y2':[],\n",
    "             'score':[],\n",
    "            }\n",
    "    label_table=pd.DataFrame(label_dir)\n",
    "    for m in range(len(boxes)):\n",
    "        if boxes[m].score !=-1:\n",
    "            label=boxes[m].label\n",
    "            if label==0:\n",
    "                label_name=\"Mark_X\"\n",
    "            elif label==1:\n",
    "                label_name='Mark_Y'\n",
    "            elif label==2:\n",
    "                label_name=\"X\"\n",
    "            elif label==3:\n",
    "                label_name=\"Y\"\n",
    "            if(boxes[m].score>0.80):\n",
    "                #新增label進list\n",
    "                label_list.append(label_name)\n",
    "                print(label_name,boxes[m].xmin,boxes[m].ymin,boxes[m].xmax,boxes[m].ymax,\"Score\",boxes[m].score)\n",
    "            #將數值存入統一字典格式    \n",
    "            statistics_dir={'label':[label_name],\n",
    "                              'x1':[boxes[m].xmin],\n",
    "                              'y1':[boxes[m].ymin],\n",
    "                              'x2':[boxes[m].xmax],\n",
    "                              'y2':[boxes[m].ymax],\n",
    "                              'score':[boxes[m].score],\n",
    "                                 }\n",
    "            #將每一筆box資料新增到global 的結果字典\n",
    "            statistics_tabel=pd.DataFrame(statistics_dir)\n",
    "            label_table=label_table.append(statistics_tabel,ignore_index=True)\n",
    "    #找list中有沒有包含所有label\n",
    "    compare=different(label_list,labels)\n",
    "    print(\"==========過濾結果===========\")\n",
    "    if len(compare)<1:\n",
    "        #過濾重複數值(先照信心值排序，照label中重複的只留下第一筆，最後按照label排序\n",
    "        label_table=label_table.sort_values('score',ascending=False).drop_duplicates('label',keep='first').sort_values(by='label')\n",
    "        print(label_table)\n",
    "    else:\n",
    "        print(\"有缺值\",compare)"
   ]
  },
  {
   "cell_type": "markdown",
   "metadata": {},
   "source": [
    "## 測試model繪製方框"
   ]
  },
  {
   "cell_type": "code",
   "execution_count": null,
   "metadata": {},
   "outputs": [],
   "source": [
    "# Set some parameter\n",
    "net_h, net_w = 608, 608 # a multiple of 32, the smaller the faster\n",
    "#物件信心值、重疊度\n",
    "obj_thresh,nms_thresh=0.80,0.3\n",
    "\n",
    "anchors = [55,69, 75,234, 133,240, 136,129, 142,363, 203,290, 228,184, 285,359, 341,260]\n",
    "#[0],[1],[2]照字母順序編排標籤順序\n",
    "labels = ['Mark_X','Mark_Y','X','Y'] \n",
    "\n",
    "\n",
    "# Read file\n",
    "image_paths = []\n",
    "if os.path.isdir(input_path): \n",
    "    for inp_file in os.listdir(input_path):\n",
    "        image_paths += [input_path + inp_file]\n",
    "else:\n",
    "    image_paths += [input_path]\n",
    "\n",
    "image_paths = [inp_file for inp_file in image_paths if (inp_file[-4:] in ['.jpg', '.png', '.JPG'])]\n",
    "\n",
    "# the main loop\n",
    "for image_path in image_paths:\n",
    "    image = cv2.imread(image_path)\n",
    "    #print(image_path)\n",
    "\n",
    "# predict the bounding boxes\n",
    "    boxes = get_yolo_boxes(infer_model, [image], net_h, net_w, anchors, obj_thresh, nms_thresh)[0]\n",
    "# draw bounding boxes on the image using labels\n",
    "    draw_boxes(image, boxes, labels, obj_thresh)  \n",
    "\n",
    "# write the image with bounding boxes to file\n",
    "    output_img_path = output_path +'predict_'+image_path.split('\\\\')[-1]\n",
    "    cv2.imwrite(output_img_path, np.uint8(image))\n",
    "    img=cv2.imread(output_img_path)[:,:,::-1]\n",
    "    #print(output_img_path)\n",
    "    \n",
    "#取得BBOX座標\n",
    "    coordinate(boxes)\n",
    "\n",
    "#輸出\n",
    "'''\n",
    "==========驗證==========\n",
    "Mark_X 125 160 442 186 Score 0.9951435\n",
    "Mark_Y 267 52 303 285 Score 0.99954325\n",
    "X -20 188 399 195 Score 0.9029059\n",
    "Y 236 41 251 341 Score 0.99843234\n",
    "==========過濾結果===========\n",
    "==========驗證==========\n",
    "Mark_X 112 180 476 205 Score 0.9712204\n",
    "Y 323 -22 333 285 Score 0.960079\n",
    "Mark_Y 277 80 317 289 Score 0.9996914\n",
    "X -42 207 421 216 Score 0.9294017\n",
    "Y 323 144 334 434 Score 0.9977327\n",
    "==========過濾結果===========\n",
    "==========驗證==========\n",
    "Y 322 76 342 364 Score 0.99534345\n",
    "Mark_Y 278 119 320 338 Score 0.99841756\n",
    "==========過濾結果===========\n",
    "有缺值 ['Mark_X', 'X']\n",
    "\n",
    "'''"
   ]
  },
  {
   "cell_type": "markdown",
   "metadata": {},
   "source": [
    "## 測試輸出座標(單一)"
   ]
  },
  {
   "cell_type": "code",
   "execution_count": 1,
   "metadata": {},
   "outputs": [],
   "source": [
    "labs=[]\n",
    "for m in range(len(boxes)):\n",
    "    if boxes[m].score !=-1:\n",
    "        label=boxes[m].label\n",
    "        if label==0:\n",
    "            label_name=\"Mark\"\n",
    "        elif label==1:\n",
    "            label_name=\"X\"\n",
    "        elif label==2:\n",
    "            label_name=\"Y\"\n",
    "        if(boxes[m].score>0.80):\n",
    "            print(label_name,boxes[m].xmin,boxes[m].ymin,boxes[m].xmax,boxes[m].ymax,\"評分\",boxes[m].score)\n",
    "#輸出\n",
    "'''\n",
    "X    1 -3 188 509 194\n",
    "Y    2 234 29 251 291\n",
    "Mark 0 244 158 327 192\n",
    "X    1 -25 185 329 197\n",
    "Y    2 237 113 251 432\n",
    "'''"
   ]
  }
 ],
 "metadata": {
  "kernelspec": {
   "display_name": "Python 3",
   "language": "python",
   "name": "python3"
  },
  "language_info": {
   "codemirror_mode": {
    "name": "ipython",
    "version": 3
   },
   "file_extension": ".py",
   "mimetype": "text/x-python",
   "name": "python",
   "nbconvert_exporter": "python",
   "pygments_lexer": "ipython3",
   "version": "3.7.3"
  }
 },
 "nbformat": 4,
 "nbformat_minor": 2
}

{
 "cells": [
  {
   "cell_type": "code",
   "execution_count": 1,
   "metadata": {},
   "outputs": [],
   "source": [
    "import glob\n",
    "import os,shutil,sys\n",
    "import cv2\n",
    "import numpy as np\n",
    "import pandas as pd\n",
    "from PIL import Image,ImageDraw\n",
    "import matplotlib.pyplot as plt\n",
    "import time #sleep 用"
   ]
  },
  {
   "cell_type": "markdown",
   "metadata": {},
   "source": [
    "## 自己寫的函式庫(匯入使用)"
   ]
  },
  {
   "cell_type": "code",
   "execution_count": 3,
   "metadata": {},
   "outputs": [
    {
     "name": "stdout",
     "output_type": "stream",
     "text": [
      "False\n",
      "[0.549502]\n"
     ]
    }
   ],
   "source": [
    "import CompareImageII\n",
    "import Harr\n",
    "f1='OG001.jpg'\n",
    "f2='OG008.jpg'\n",
    "#一定要\"/\"，這個方向\n",
    "file1='Screen/transport/OG/'+f1\n",
    "file2='Screen/transport/OG/'+f2\n",
    "print(CompareImageII.CompareAlgo(file1,file2))\n",
    "  \n",
    "file3='Screen/transport/'+f1\n",
    "file4='Screen/transport/'+f2\n",
    "img1=cv2.imread(file3)\n",
    "img2=cv2.imread(file4)\n",
    "print(CompareImageII.calculate(img1,img2))"
   ]
  },
  {
   "cell_type": "markdown",
   "metadata": {},
   "source": [
    "## 步驟1:將影像切割左邊右邊"
   ]
  },
  {
   "cell_type": "code",
   "execution_count": 25,
   "metadata": {
    "scrolled": true
   },
   "outputs": [
    {
     "name": "stdout",
     "output_type": "stream",
     "text": [
      "15-12-50_Y3VA_One_01.jpg\n",
      "15-12-50_Y3VA_One_02.jpg\n",
      "15-12-50_Y3VA_Two_01.jpg\n",
      "15-12-50_Y3VA_Two_02.jpg\n",
      "15-28-28_Y3RA_One_01.jpg\n",
      "15-28-28_Y3RA_One_02.jpg\n",
      "15-28-28_Y3RA_Two_01.jpg\n",
      "15-28-28_Y3RA_Two_02.jpg\n",
      "15-38-08_Y3AA_One_01.jpg\n",
      "15-38-08_Y3AA_One_02.jpg\n",
      "15-38-08_Y3AA_Two_01.jpg\n",
      "15-38-08_Y3AA_Two_02.jpg\n",
      "15-52-19_Y3BA_One_01.jpg\n",
      "15-52-19_Y3BA_One_02.jpg\n",
      "15-52-19_Y3BA_Two_01.jpg\n",
      "15-52-19_Y3BA_Two_02.jpg\n",
      "15-56-37_Y3DA_One_01.jpg\n",
      "15-56-37_Y3DA_One_02.jpg\n",
      "15-56-37_Y3DA_Two_01.jpg\n",
      "15-56-37_Y3DA_Two_02.jpg\n",
      "16-02-44_Y3FA_One_01.jpg\n",
      "16-02-44_Y3FA_One_02.jpg\n",
      "16-02-44_Y3FA_Two_01.jpg\n",
      "16-02-44_Y3FA_Two_02.jpg\n",
      "16-06-56_Y3GA_One_01.jpg\n",
      "16-06-56_Y3GA_One_02.jpg\n",
      "16-06-56_Y3GA_Two_01.jpg\n",
      "16-06-56_Y3GA_Two_02.jpg\n",
      "16-11-13_Y3HA_One_01.jpg\n",
      "16-11-13_Y3HA_One_02.jpg\n",
      "16-11-13_Y3HA_Two_01.jpg\n",
      "16-11-13_Y3HA_Two_02.jpg\n",
      "16-14-50_Y3JA_One_01.jpg\n",
      "16-14-50_Y3JA_One_02.jpg\n",
      "16-14-50_Y3JA_Two_01.jpg\n",
      "16-14-50_Y3JA_Two_02.jpg\n",
      "16-18-41_Y3KA_One_01.jpg\n",
      "16-18-41_Y3KA_One_02.jpg\n",
      "16-18-41_Y3KA_Two_01.jpg\n",
      "16-18-41_Y3KA_Two_02.jpg\n",
      "16-22-51_Y3LA_One_01.jpg\n",
      "16-22-51_Y3LA_One_02.jpg\n",
      "16-22-51_Y3LA_Two_01.jpg\n",
      "16-22-51_Y3LA_Two_02.jpg\n",
      "16-27-53_Y3MA_One_01.jpg\n",
      "16-27-53_Y3MA_One_02.jpg\n",
      "16-27-53_Y3MA_Two_01.jpg\n",
      "16-27-53_Y3MA_Two_02.jpg\n"
     ]
    }
   ],
   "source": [
    "path='C:\\\\Users\\\\2102048\\\\Desktop\\\\CutImage\\\\'\n",
    "Filelist=glob.glob(path+'*.jpg')\n",
    "#依次讀取陣列裡面的每個檔案，並一一開啟來處理\n",
    "for i,f in enumerate(Filelist):\n",
    "    #開一個檔案\n",
    "    img=cv2.imread(f)\n",
    "    #取檔名\n",
    "    filename=(f.split('\\\\'))[-1]\n",
    "    #去除副檔名\n",
    "    name=filename[:-4]\n",
    "    #設定座標取左\n",
    "    #[[605,500],[0,500],[0,0],[605,0]]\n",
    "    point_left_1=(0,0)\n",
    "    point_left_2=(500,500)\n",
    "    crop_left=img[point_left_1[1]:point_left_2[1],point_left_1[0]:point_left_2[0]]\n",
    "    save_left=name+'_01.jpg'\n",
    "    cv2.imwrite('Screen/OG/OK_cutting/'+save_left,crop_left)\n",
    "    print(save_left)\n",
    "    #設定座標取右\n",
    "    #[[1210,500],[605,500],[605,0],[1210,0]]\n",
    "    point_right_1=(610,0)\n",
    "    point_right_2=(1110,500)\n",
    "    crop_right=img[point_right_1[1]:point_right_2[1],point_right_1[0]:point_right_2[0]]\n",
    "    save_right=name+'_02.jpg'\n",
    "    cv2.imwrite('Screen/OG/OK_cutting/'+save_right,crop_right)\n",
    "    print(save_right)"
   ]
  },
  {
   "cell_type": "markdown",
   "metadata": {},
   "source": [
    "## 步驟2:Sikulix 擴增資料(裁減上下)"
   ]
  },
  {
   "cell_type": "code",
   "execution_count": 21,
   "metadata": {},
   "outputs": [
    {
     "name": "stdout",
     "output_type": "stream",
     "text": [
      "t001_03.jpg\n",
      "t001_04.jpg\n",
      "t001_05.jpg\n",
      "t001_06.jpg\n",
      "t001_07.jpg\n",
      "t001_08.jpg\n",
      "t002_03.jpg\n",
      "t002_04.jpg\n",
      "t002_05.jpg\n",
      "t002_06.jpg\n",
      "t002_07.jpg\n",
      "t002_08.jpg\n",
      "t003_03.jpg\n",
      "t003_04.jpg\n",
      "t003_05.jpg\n",
      "t003_06.jpg\n",
      "t003_07.jpg\n",
      "t003_08.jpg\n",
      "t004_03.jpg\n",
      "t004_04.jpg\n",
      "t004_05.jpg\n",
      "t004_06.jpg\n",
      "t004_07.jpg\n",
      "t004_08.jpg\n",
      "t005_03.jpg\n",
      "t005_04.jpg\n",
      "t005_05.jpg\n",
      "t005_06.jpg\n",
      "t005_07.jpg\n",
      "t005_08.jpg\n",
      "t006_03.jpg\n",
      "t006_04.jpg\n",
      "t006_05.jpg\n",
      "t006_06.jpg\n",
      "t006_07.jpg\n",
      "t006_08.jpg\n",
      "t007_03.jpg\n",
      "t007_04.jpg\n",
      "t007_05.jpg\n",
      "t007_06.jpg\n",
      "t007_07.jpg\n",
      "t007_08.jpg\n",
      "t008_03.jpg\n",
      "t008_04.jpg\n",
      "t008_05.jpg\n",
      "t008_06.jpg\n",
      "t008_07.jpg\n",
      "t008_08.jpg\n"
     ]
    }
   ],
   "source": [
    "path='C:\\\\Users\\\\2102048\\\\pythonCV\\\\Screen\\\\OG\\\\OK_cutting\\\\'\n",
    "filelist=glob.glob(path+'*.jpg')\n",
    "#423*500下去裁減\n",
    "for i,f in enumerate(filelist):\n",
    "    #開一個檔案\n",
    "    img=cv2.imread(f)\n",
    "    #取檔名\n",
    "    filename=(f.split('\\\\'))[-1]\n",
    "    #去除副檔名\n",
    "    name=filename[:-7]   \n",
    "    \n",
    "    #第一種裁減尺寸(裁左方、上方影像)\n",
    "    point1_1=(20,20)\n",
    "    point1_2=(500,500)\n",
    "    #設定裁切區域\n",
    "    cutting_1=img[point1_1[1]:point1_2[1],point1_1[0]:point1_2[0]]\n",
    "    save_cutting_1=name+\"_03.jpg\"\n",
    "    print(save_cutting_1)\n",
    "    #存檔(路徑+檔名.裁切影像)\n",
    "    cv2.imwrite('Screen/OG/OK_cutting/test/'+save_cutting_1,cutting_1)\n",
    "    \n",
    "    #第二種裁減尺寸(裁減右方、下方影像)\n",
    "    point2_1=(0,0)\n",
    "    point2_2=(480,480)\n",
    "    cutting_2=img[point2_1[1]:point2_2[1],point2_1[0]:point2_2[0]]\n",
    "    save_cutting_2=name+\"_04.jpg\"\n",
    "    print(save_cutting_2)\n",
    "    cv2.imwrite('Screen/OG/OK_cutting/test/'+save_cutting_2,cutting_2)\n",
    "    \n",
    "    #第三種\n",
    "    point3_1=(30,30)\n",
    "    point3_2=(500,500)\n",
    "    cutting_3=img[point3_1[1]:point3_2[1],point3_1[0]:point3_2[0]]\n",
    "    save_cutting_3=name+\"_05.jpg\"\n",
    "    print(save_cutting_3)\n",
    "    cv2.imwrite('Screen/OG/OK_cutting/test/'+save_cutting_3,cutting_3)\n",
    "    #第四種\n",
    "    point4_1=(0,0)\n",
    "    point4_2=(480,480)\n",
    "    cutting_4=img[point4_1[1]:point4_2[1],point4_1[0]:point4_2[1]]\n",
    "    save_cutting_4=name+\"_06.jpg\"\n",
    "    print(save_cutting_4)\n",
    "    cv2.imwrite('Screen/OG/OK_cutting/test/'+save_cutting_4,cutting_4)\n",
    "    \n",
    "    #第五種\n",
    "    point5_1=(0,20)\n",
    "    point5_2=(480,480)\n",
    "    cutting_5=img[point5_1[1]:point5_2[1],point5_1[0]:point5_2[0]]\n",
    "    save_cutting_5=name+\"_07.jpg\"\n",
    "    print(save_cutting_5)\n",
    "    cv2.imwrite('Screen/OG/OK_cutting/test/'+save_cutting_5,cutting_5)\n",
    "    \n",
    "    #第六種\n",
    "    point6_1=(20,0)\n",
    "    point6_2=(480,480)\n",
    "    cutting_6=img[point6_1[1]:point6_2[1],point6_1[0]:point6_2[0]]\n",
    "    save_cutting_6=name+\"_08.jpg\"\n",
    "    print(save_cutting_6)\n",
    "    cv2.imwrite('Screen/OG/OK_cutting/test/'+save_cutting_6,cutting_6)\n",
    "    "
   ]
  },
  {
   "cell_type": "markdown",
   "metadata": {},
   "source": [
    "## 步驟2:Sikulix 擴增資料(光影變化)"
   ]
  },
  {
   "cell_type": "code",
   "execution_count": 46,
   "metadata": {},
   "outputs": [],
   "source": [
    "def hls_image(processIMG,lightness,saturation):\n",
    "    #匯入進來的要是HLS的色彩影像(可以先從RBG、BGR轉換成HLS)\n",
    "    \n",
    "    #調整亮度\n",
    "    processIMG[:,:,1]=(1+lightness/100.0)*processIMG[:,:,1]\n",
    "    #正規化到0~1之間，超過1的都等於1，讓pixel的數值都在影像的範圍之內\n",
    "    processIMG[:,:,1][processIMG[:,:,1]>1]=1\n",
    "##\n",
    "    print(img[:,:,1])\n",
    "    print(\"=============\")\n",
    "##\n",
    "    #調整飽和度\n",
    "    processIMG[:,:,2]=(1+saturation/100.0)*processIMG[:,:,2]\n",
    "    #正規化到0~1之間，超過1的都等於1，讓pixel的數值都在影像的範圍之內\n",
    "    processIMG[:,:,2][processIMG[:,:,2]>1]=1\n",
    "##\n",
    "    print(img[:,:,1])\n",
    "##\n",
    "    # 顏色空間反轉換 HLS -> BGR \n",
    "    result_img = cv2.cvtColor(processIMG, cv2.COLOR_HLS2BGR)\n",
    "    result_img = ((result_img * 255).astype(np.uint8))\n",
    "    result_img=cv2.cvtColor(result_img,cv2.COLOR_BGR2GRAY)\n",
    "    return(result_img)\n",
    "    \n",
    "def modify_lightness_saturation(img):\n",
    "    OG_img=img\n",
    "    #transfer to float\n",
    "    fImg=img.astype(np.float32)\n",
    "    #影像正規化\n",
    "    fImg=fImg/255.0\n",
    "    \n",
    "    #顏色空間轉換BGR->HLS\n",
    "    hls_img=cv2.cvtColor(fImg,cv2.COLOR_BGR2HLS)\n",
    "    \n",
    "#adjust recipe_1\n",
    "#//////////////////////////////////\n",
    "    hlsCopy=np.copy(hls_img)\n",
    "    #調整亮度1，1(+-)多少%\n",
    "    lightness=0\n",
    "    #調整飽和度1，1(+-)多少%\n",
    "    saturation=300\n",
    "    \n",
    "    # 亮度調整，[:,:,1]從0開始\n",
    "    hlsCopy[:, :, 1] = (1 + lightness / 100.0) * hlsCopy[:, :, 1]\n",
    "    hlsCopy[:, :, 1][hlsCopy[:, :, 1] > 1] = 1  #介於 0~1，計算出來超過1 = 1\n",
    "\n",
    "    # 飽和度調整\n",
    "    hlsCopy[:, :, 2] = (1 + saturation / 100.0) * hlsCopy[:, :, 2]\n",
    "    hlsCopy[:, :, 2][hlsCopy[:, :, 2] > 1] = 1  #介於 0~1，計算出來超過1 = 1\n",
    "\n",
    "    # 顏色空間反轉換 HLS -> BGR \n",
    "    result_img = cv2.cvtColor(hlsCopy, cv2.COLOR_HLS2BGR)\n",
    "    result_img = ((result_img * 255).astype(np.uint8))\n",
    "#//////////////////////////////////\n",
    "\n",
    "#adjust recipe_2\n",
    "#//////////////////////////////////\n",
    "    lightness_2=10\n",
    "    saturation_2=200\n",
    "    hlsCopy2=np.copy(hls_img)\n",
    "    result_img_2=hls_image(hlsCopy2,lightness_2,saturation_2)\n",
    "#///////////////////////////////\n",
    "\n",
    "#adjust recipe_3\n",
    "#//////////////////////////////////\n",
    "    #調整亮度3(多10%)\n",
    "    lightness_3=10\n",
    "    #調整飽和度3(多30%)\n",
    "    saturation_3=50\n",
    "    hlsCopy3=np.copy(hls_img)\n",
    "    result_img_3=hls_image(hlsCopy3,lightness_3,saturation_3)\n",
    "#///////////////////////////////\n",
    "    titles=['img','Highr0-300','Highr10-200','Highr10-50']\n",
    "    images=[OG_img,result_img,result_img_2,result_img_3]\n",
    "    for i in range(len(images)):\n",
    "        #2row * 2column\n",
    "        plt.subplot(2,2,i+1),plt.imshow(images[i],'gray')\n",
    "        plt.title(titles[i])\n",
    "        plt.xticks([]),plt.yticks([])\n",
    "    plt.show()"
   ]
  },
  {
   "cell_type": "code",
   "execution_count": 47,
   "metadata": {},
   "outputs": [
    {
     "name": "stdout",
     "output_type": "stream",
     "text": [
      "[[136 136 135 ... 136 137 138]\n",
      " [138 138 137 ... 140 141 143]\n",
      " [136 136 136 ... 142 143 144]\n",
      " ...\n",
      " [100 101 100 ... 110 110 110]\n",
      " [147 147 147 ... 146 146 146]\n",
      " [152 152 152 ... 145 145 145]]\n",
      "=============\n",
      "[[136 136 135 ... 136 137 138]\n",
      " [138 138 137 ... 140 141 143]\n",
      " [136 136 136 ... 142 143 144]\n",
      " ...\n",
      " [100 101 100 ... 110 110 110]\n",
      " [147 147 147 ... 146 146 146]\n",
      " [152 152 152 ... 145 145 145]]\n",
      "[[136 136 135 ... 136 137 138]\n",
      " [138 138 137 ... 140 141 143]\n",
      " [136 136 136 ... 142 143 144]\n",
      " ...\n",
      " [100 101 100 ... 110 110 110]\n",
      " [147 147 147 ... 146 146 146]\n",
      " [152 152 152 ... 145 145 145]]\n",
      "=============\n",
      "[[136 136 135 ... 136 137 138]\n",
      " [138 138 137 ... 140 141 143]\n",
      " [136 136 136 ... 142 143 144]\n",
      " ...\n",
      " [100 101 100 ... 110 110 110]\n",
      " [147 147 147 ... 146 146 146]\n",
      " [152 152 152 ... 145 145 145]]\n"
     ]
    },
    {
     "data": {
      "image/png": "[encoded data removed]",
      "text/plain": [
       "<Figure size 432x288 with 4 Axes>"
      ]
     },
     "metadata": {},
     "output_type": "display_data"
    }
   ],
   "source": [
    "img=cv2.imread('Screen\\\\OG\\\\OK_cutting\\\\16-27-53_Y3MA_Two_07.jpg')\n",
    "modify_lightness_saturation(img)"
   ]
  },
  {
   "cell_type": "code",
   "execution_count": null,
   "metadata": {},
   "outputs": [],
   "source": [
    "path='C:\\\\Users\\\\2102048\\\\pythonCV\\\\Screen\\\\OG\\\\OK_cutting\\\\'\n",
    "filelist=glob.glob(path+'*.jpg')\n",
    "#423*500下去裁減\n",
    "for i,f in enumerate(filelist):\n",
    "    #開一個檔案\n",
    "    img=cv2.imread(f)\n",
    "    #取檔名\n",
    "    filename=(f.split('\\\\'))[-1]\n",
    "    #去除副檔名\n",
    "    name=filename[:-7]\n",
    "    #正規化\n",
    "    light_img=img/255.0\n",
    "    #色彩轉換\n",
    "    hls_img=cv2.cvtColor(light_img,cv2.COLOR_BAYER_BG2HLS)\n",
    "    #亮度設定\n",
    "    lightness=5\n",
    "    #飽和度設定\n",
    "    saturation=300\n",
    "    his_img[:,:,-1]"
   ]
  },
  {
   "cell_type": "markdown",
   "metadata": {},
   "source": [
    "## 步驟3:Sikulix後影像前處理(非必要)"
   ]
  },
  {
   "cell_type": "code",
   "execution_count": 7,
   "metadata": {},
   "outputs": [],
   "source": [
    "'''\n",
    "#圖片,要不要存檔\n",
    "def ImageProcess(imgpath):\n",
    "    #灰階讀進\n",
    "    img=cv2.imread(f,cv2.IMREAD_GRAYSCALE)\n",
    "\n",
    "    #膨脹\n",
    "    kernel = np.ones((1,1), np.uint8)\n",
    "    dilate = cv2.dilate(img, kernel, iterations = 1)\n",
    "    \n",
    "    kernelN=np.ones((11,11),np.uint8)\n",
    "    Negtive=cv2.erode(image_mid_blur,kernelN,iterations=1)\n",
    "    \n",
    "    Gaussian=cv2.GaussianBlur(Negtive,(1,1),50)\n",
    "    usm = cv2.addWeighted(Negtive, 1.5, Gaussian, -0.5, 0)\n",
    "    \n",
    "    cv2.imwrite('Screen/OG/OK_cutting/test/'+imgpath.split(\"\\\\\")[-1],usm)\n",
    "'''"
   ]
  },
  {
   "cell_type": "code",
   "execution_count": 17,
   "metadata": {},
   "outputs": [],
   "source": [
    "#讀進檔案進行預處理\n",
    "#使用(要先在path之下建立test資料夾)\n",
    "path='C:\\\\Users\\\\2102048\\\\pythonCV\\\\Screen\\\\OG\\\\OK_cutting\\\\'\n",
    "#讀進所有jpg檔案\n",
    "photolist=glob.glob(path+'*.jpg')\n",
    "#一張一張處理掉雜質(碎削、對位置藍色x點)\n",
    "for i,f in enumerate(photolist):\n",
    "    filename=f.split(\"\\\\\")[-1]\n",
    "    #灰階讀進\n",
    "    img=cv2.imread(path+filename,0)\n",
    "\n",
    "    #膨脹\n",
    "    kernel = np.ones((5,5), np.uint8)\n",
    "    dilate = cv2.dilate(img, kernel, iterations = 1)\n",
    "    \n",
    "    #降噪(中值濾波)，彌平紅線條\n",
    "    image_mid_blur =cv2.medianBlur(dilate, 9) \n",
    "    cv2.imwrite('Screen/OG/OK_cutting/test/'+filename,dilate)"
   ]
  },
  {
   "cell_type": "markdown",
   "metadata": {},
   "source": [
    "## (選用) Sikulix 專用資料夾處理"
   ]
  },
  {
   "cell_type": "code",
   "execution_count": 4,
   "metadata": {},
   "outputs": [],
   "source": [
    "#建立資料夾\n",
    "def emptydir(dirname):\n",
    "    if os.path.isdir(dirname):\n",
    "        shutil.rmtree(dirname)\n",
    "        print(\"已刪除重建\",dirname,\"資料夾\")\n",
    "        sleep(2)\n",
    "    \n",
    "    os.mkdir(dirname)\n",
    "    print(\"建立\",dirname)    \n",
    "#搬移檔案\n",
    "def movefile(src_path,des_path):\n",
    "    for fname in os.listdir (src_path):\n",
    "        shutil.move(os.path.join(src_path,fname),des_path)"
   ]
  },
  {
   "cell_type": "code",
   "execution_count": 70,
   "metadata": {},
   "outputs": [
    {
     "name": "stdout",
     "output_type": "stream",
     "text": [
      "建立 2021-03-30 15-12-50_Y3VA\n",
      "建立 2021-03-30 15-12-50_Y3VA/Type1\n",
      "建立 2021-03-30 15-12-50_Y3VA/Type2\n",
      "建立 2021-03-30 15-12-50_Y3VA/Type3\n",
      "建立 2021-03-30 15-12-50_Y3VA/Type4\n"
     ]
    }
   ],
   "source": [
    "#使用搬移檔案功能，將src_path該層檔案移置des_path\n",
    "#參數(原始路徑,搬移路徑)\n",
    "def movefile(src_path,des_path):\n",
    "    for fname in os.listdir(src_path):\n",
    "    shutil.move(os.path.join(src_path,fname),des_path)\n",
    "    \n",
    "#輸入片號資料夾\n",
    "panelFile=\"2021-03-30 15-12-50_Y3VA\"\n",
    "#建立資料夾\n",
    "emptydir(panelFile)\n",
    "#建立子資料價\n",
    "subfile=[\"One\",\"Two\"]\n",
    "for i in subfile:\n",
    "    TypeFile=\"Screen/transport/\"+panelFile+\"/\"+i\n",
    "    emptydir(TypeFile)\n",
    "    #從Sikulix公用處取檔案\n",
    "    movefile(\"Screen/transport/\"+i,TypeFile)\n",
    "    \n",
    "for i in subfile:\n",
    "    #從子類別搬到父類別\n",
    "    movefile(\"Screen/transport/\"+panelFile,\"Screen/transport/\"+panelFile+\"/\"+i"
   ]
  },
  {
   "cell_type": "markdown",
   "metadata": {},
   "source": [
    "## 尋找黑色元素(3/22測試)，暫時用不到"
   ]
  },
  {
   "cell_type": "code",
   "execution_count": 4,
   "metadata": {},
   "outputs": [],
   "source": [
    "def replace_color_tran(img, src_clr):\n",
    "    #要用cv2.imread來開檔案，不然會有src錯誤\n",
    "    Count_Black=0\n",
    "    ret,thresh1 = cv2.threshold(img,100,200,cv2.THRESH_BINARY)\n",
    "    print(\"Binary_Inv\")\n",
    "    #Test 1，有問題\n",
    "    contours,hierarchy=cv2.findContours(thresh1,cv2.RETR_TREE,cv2.CHAIN_APPROX_SIMPLE)\n",
    "    cv2,drawContours(img,contours,-1,(0,0,255),3)\n",
    "    \n",
    "    cv2.imshow(\"img\", img)  \n",
    "    cv2.waitKey(0) "
   ]
  },
  {
   "cell_type": "code",
   "execution_count": 108,
   "metadata": {
    "scrolled": true
   },
   "outputs": [
    {
     "data": {
      "image/png": "[encoded data removed]",
      "text/plain": [
       "<Figure size 432x288 with 1 Axes>"
      ]
     },
     "metadata": {
      "needs_background": "light"
     },
     "output_type": "display_data"
    },
    {
     "data": {
      "image/png": "[encoded data removed]",
      "text/plain": [
       "<Figure size 432x288 with 1 Axes>"
      ]
     },
     "metadata": {
      "needs_background": "light"
     },
     "output_type": "display_data"
    }
   ],
   "source": [
    "img=cv2.imread('Screen/transport/OG003.jpg',0)\n",
    "img_cut=cv2.imread('Screen/transport/OG008.jpg',0)\n",
    "UP=255;LOWER=100\n",
    "#像素多的二值化\n",
    "ret,thresh1=cv2.threshold(img,LOWER,UP,cv2.THRESH_TOZERO)\n",
    "ret,thresh2=cv2.threshold(img_cut,LOWER,UP,cv2.THRESH_TOZERO)\n",
    "hist1 = cv2.calcHist([thresh1],[0],None,[256],[0.0,255.0]) \n",
    "hist2 = cv2.calcHist([thresh2],[0],None,[256],[0.0,255.0]) \n",
    "plt.plot(range(256),hist1,'r') \n",
    "plt.plot(range(256),hist2,'b') \n",
    "plt.show() \n",
    "#只留黑色切割\n",
    "ret,thresh3=cv2.threshold(img,LOWER,UP,cv2.THRESH_BINARY)\n",
    "ret,thresh4=cv2.threshold(img_cut,LOWER,UP,cv2.THRESH_BINARY)\n",
    "hist3=cv2.calcHist([thresh3],[0],None,[256],[0.0,255.0])\n",
    "hist4=cv2.calcHist([thresh4],[0],None,[256],[0.0,255.0])\n",
    "plt.plot(range(256),hist3,'r')\n",
    "plt.plot(range(256),hist4,'k')\n",
    "#只留白色切割\n",
    "ret,thresh5=cv2.threshold(img,LOWER,UP,cv2.THRESH_BINARY_INV)\n",
    "ret,thresh6=cv2.threshold(img_cut,LOWER,UP,cv2.THRESH_BINARY_INV)"
   ]
  },
  {
   "cell_type": "markdown",
   "metadata": {},
   "source": [
    "## 步驟6:過濾的影像預處理(二值化處理)\n",
    "##### 效果評估(選一個方法處理)比對尋找一刀兩刀"
   ]
  },
  {
   "cell_type": "code",
   "execution_count": 49,
   "metadata": {},
   "outputs": [
    {
     "data": {
      "image/png": "[encoded data removed]",
      "text/plain": [
       "<Figure size 432x288 with 8 Axes>"
      ]
     },
     "metadata": {},
     "output_type": "display_data"
    }
   ],
   "source": [
    "img1 = cv2.imread('Screen/OG/OK_cutting/15-12-50_Y3VA_One_01.jpg',0)\n",
    "img= cv2.imread('Screen/transport/One_000_02.jpg',0)\n",
    "#img1 = cv2.imread('Screen/OG/OK_cutting/test/15-12-50_Y3VA_One_01.jpg',0)\n",
    "#(影像,分類閥值,賦予新值,選擇參數)\n",
    "UP=200\n",
    "LOWER=160\n",
    "ret,thresh1 = cv2.threshold(img,LOWER,UP,cv2.THRESH_BINARY)\n",
    "ret,thresh2 = cv2.threshold(img,LOWER,UP,cv2.THRESH_BINARY_INV)\n",
    "ret,thresh3 = cv2.threshold(img,LOWER,UP,cv2.THRESH_TRUNC)\n",
    "\n",
    "ret,thresh4 = cv2.threshold(img,LOWER,UP,cv2.THRESH_TOZERO)\n",
    "\n",
    "ret,thresh42 =cv2.threshold(img,LOWER,UP,cv2.THRESH_TOZERO)\n",
    "\n",
    "ret,thresh5 = cv2.threshold(img,LOWER,UP,cv2.THRESH_TOZERO_INV)\n",
    "thresh6 = cv2.adaptiveThreshold(img,LOWER,cv2.ADAPTIVE_THRESH_MEAN_C,cv2.THRESH_BINARY,11,2)\n",
    "thresh7 = cv2.adaptiveThreshold(img,LOWER,cv2.ADAPTIVE_THRESH_GAUSSIAN_C,cv2.THRESH_BINARY,11,2)\n",
    "\n",
    "#存檔\n",
    "cv2.imwrite('Screen/transport/binary/TRUNC05.jpg',thresh3)\n",
    "    \n",
    "titles = ['img','BINARY','BINARY_INV','TRUNC','TOZERO','TOZERO_INV','Auto1','Auto2']\n",
    "images = [img,thresh1,thresh2,thresh3,thresh4,thresh5,thresh6,thresh7]\n",
    "for i in range(8):\n",
    "    plt.subplot(2,4,i+1),plt.imshow(images[i],'gray')\n",
    "    plt.title(titles[i])\n",
    "    plt.xticks([]),plt.yticks([])\n",
    "plt.show()"
   ]
  },
  {
   "cell_type": "markdown",
   "metadata": {},
   "source": [
    "## 步驟6:算黑色元素(用numpy處理)"
   ]
  },
  {
   "cell_type": "code",
   "execution_count": 7,
   "metadata": {},
   "outputs": [
    {
     "data": {
      "image/png": "[encoded data removed]",
      "text/plain": [
       "<Figure size 432x288 with 1 Axes>"
      ]
     },
     "metadata": {
      "needs_background": "light"
     },
     "output_type": "display_data"
    },
    {
     "name": "stdout",
     "output_type": "stream",
     "text": [
      "width_500,height_422\n",
      "width_500,height_422\n",
      "(211000,)\n"
     ]
    },
    {
     "data": {
      "image/png": "[encoded data removed]",
      "text/plain": [
       "<Figure size 432x288 with 1 Axes>"
      ]
     },
     "metadata": {
      "needs_background": "light"
     },
     "output_type": "display_data"
    }
   ],
   "source": [
    "#順序，先轉成二值化閥值，僅有0或255，再將影像轉成numpy，之後遍部numpy找尋0(黑色元素)\n",
    "#並且統計一條黑色元素跟兩條黑色元素的差異，來判斷有切沒切\n",
    "\n",
    "#開第5步驟預處理的資料夾\n",
    "path='Screen//transport//binary//*'\n",
    "#讀出資料夾內檔案\n",
    "#file=glob.glob(path+'.jpg')\n",
    "f='Screen//transport//binary//TRUNC02.jpg'\n",
    "#依序讀出檔案(i為順序，f為檔名)\n",
    "#for i,f in enumerate(file):\n",
    "#開檔案\n",
    "image=Image.open(f)\n",
    "#轉灰階\n",
    "image_gray=Image.open(f).convert('L')\n",
    "image_raw=cv2.imread(f,0)\n",
    "#色彩空間轉換\n",
    "image_raw=cv2.cvtColor(image_raw,cv2.COLOR_BGRA2RGB)\n",
    "###\n",
    "#轉換讓matlab認識灰階\n",
    "plt.imshow(image_raw,cmap='gray')\n",
    "plt.title('Raw_img')\n",
    "plt.show()\n",
    "width,heigh=image.size\n",
    "print('width_{},height_{}'.format(width,heigh))\n",
    "###\n",
    "    \n",
    "#算影像的長度\n",
    "width,heigh=image_gray.size\n",
    "print('width_{},height_{}'.format(width,heigh))\n",
    "    \n",
    "#宣告放黑色元素array\n",
    "Black_Pixel=[]\n",
    "#遍部所有pixel，0黑、255白\n",
    "for y in range(heigh):\n",
    "    for x in range(width):\n",
    "        #取出pixel\n",
    "        pixel=image_gray.getpixel((x,y))\n",
    "        if pixel>110:\n",
    "            pixel=255\n",
    "        else:\n",
    "            pixel=0\n",
    "        #加到array\n",
    "        Black_Pixel.append(pixel)\n",
    "####\n",
    "ary=np.array(Black_Pixel)\n",
    "#print維度要numpy\n",
    "print(ary.shape)\n",
    "#此時ary的shap矩陣為(211000,)代表211000x1的一維矩陣\n",
    "####\n",
    "\n",
    "#計算切割的黑色像素\n",
    "\n",
    "\n",
    "#numpy轉圖\n",
    "picture=ary.reshape(heigh,width)\n",
    "im_bin=Image.fromarray(picture)\n",
    "#儲存測試結果成csv，\n",
    "#將結果儲存成CSV檔案，注意只能存一次，會呈現只有切割線是255(黑色)，其他地方都是0(白色)\n",
    "pd.DataFrame(picture).to_csv('C://Users//2102048/pythonCV//Screen//transport//binary//Bin.cvs')\n",
    "\n",
    "#使用matlab要加顏色映射的函數\n",
    "plt.imshow(im_bin,cmap='gray')\n",
    "plt.title('binary')\n",
    "plt.show()\n",
    "    \n",
    "   "
   ]
  },
  {
   "cell_type": "markdown",
   "metadata": {},
   "source": [
    "## BubbleSort Test(示範)"
   ]
  },
  {
   "cell_type": "code",
   "execution_count": 82,
   "metadata": {},
   "outputs": [],
   "source": [
    "def bubbleSort(arr): \n",
    "    #算array長度\n",
    "    n = len(arr)  \n",
    "    #倆倆比對長度減1次\n",
    "    for i in range(n-1): \n",
    "    # 倆倆比對長度減回合減1次\n",
    "        for j in range(0, n-i-1): \n",
    "            # traverse the array from 0 to n-i-1 \n",
    "            # Swap if the element found is greater \n",
    "            # than the next element \n",
    "            #if j跟j+1 比較為True 從排隊list刪除，進刪除list \n",
    "            if arr[j] > arr[j+1] : \n",
    "                arr[j], arr[j+1] = arr[j+1], arr[j] \n"
   ]
  },
  {
   "cell_type": "code",
   "execution_count": 83,
   "metadata": {},
   "outputs": [
    {
     "name": "stdout",
     "output_type": "stream",
     "text": [
      "Sorted array is:\n",
      "11\n",
      "12\n",
      "22\n",
      "25\n",
      "34\n",
      "64\n",
      "90\n"
     ]
    }
   ],
   "source": [
    "# Driver code to test above \n",
    "arr = [64, 34, 25, 12, 22, 11, 90] \n",
    "  \n",
    "bubbleSort(arr) \n",
    "  \n",
    "print (\"Sorted array is:\") \n",
    "for i in range(len(arr)): \n",
    "    print (\"%d\" %arr[i])"
   ]
  },
  {
   "cell_type": "markdown",
   "metadata": {},
   "source": [
    "## 步驟7:兩兩過濾相似度比對"
   ]
  },
  {
   "cell_type": "code",
   "execution_count": 67,
   "metadata": {},
   "outputs": [],
   "source": [
    "#比對等待(等待秒,截圖數量)\n",
    "def sleep_compare(sec):\n",
    "    #讀進前面截圖的資料\n",
    "    filepath='Screen\\\\Test\\\\Type1\\\\'\n",
    "    myfiles=glob.glob(filepath+'*.jpg')\n",
    "    #宣告字典\n",
    "    ImageArray=[]\n",
    "    for i,f in enumerate(myfiles):\n",
    "        #放到Arraay排隊\n",
    "        ImageArray.append(f)\n",
    "        print(\"檔案\",ImageArray[i])\n",
    "    #不能用len(Imagelist) 因int是不可以疊帶\n",
    "    for i in ImageArray:\n",
    "        #算數量\n",
    "        count=0\n",
    "        count+=1\n",
    "    \n",
    "    print(\"檔案\",ImageArray)\n",
    "    try:\n",
    "        #判斷裡面沒大於2張無法比較\n",
    "        #if len(ImageArray)<=1:\n",
    "            #print(\"End\")\n",
    "        #如果超過兩張就兩兩比較\n",
    "        if len(ImageArray)>=2:\n",
    "            print(\"Start\")\n",
    "            #兩兩拉出 1跟2比，2跟3比，3跟4比\n",
    "            N=len(ImageArray)-1\n",
    "            #從i=0，j=0開始\n",
    "            for  i in range(N):\n",
    "                    print(\"///////比對///////\",i+1,\"次///////////////\")\n",
    "                    print(\"///////此次///////\",ImageArray)\n",
    "                #判斷裡面沒大於2張無法比較\n",
    "                    if len(ImageArray)<1:\n",
    "                        print(\"End 結束\")\n",
    "                    else:\n",
    "                        \n",
    "                        #取檔案順序\n",
    "                        File1=0\n",
    "                        File2=1\n",
    "                        print(\"比對 開檔\",i)\n",
    "\n",
    "                        #從隊伍撈出來開檔案\n",
    "                        img1=Image.open(ImageArray[File1])\n",
    "                        print('//1//',ImageArray[File1])\n",
    "                        #取檔名\n",
    "                        File1Name=str(ImageArray[File1]).split(\"\\\\\")[-1]\n",
    "                        #停頓\n",
    "                        #await asyncio.sleep(sec)\n",
    "                        #img1.show()\n",
    "                        #刪掉list第一個值(被開的檔名)\n",
    "                        #ImageArray.remove(str(ImageArray[File1]))\n",
    "                        img2=Image.open(ImageArray[File2])\n",
    "                        print('//2//',ImageArray[File2])\n",
    "                        #取檔名\n",
    "                        File2Name=str(ImageArray[File1]).split(\"\\\\\")[-1]\n",
    "                        #刪掉list第一個值(被開的檔名)\n",
    "                        #ImageArray.remove(str(ImageArray[File2]))\n",
    "                        #img2.show()\n",
    "                        print(\"取檔案OK，開始比對圖片\")\n",
    "                        #比對相似度\n",
    "                        rate=CompareImageII.CompareAlgo(ImageArray[File1],ImageArray[File2])\n",
    "                        if(rate==True):\n",
    "\n",
    "                            #RemoveFile=ImageArray[File1]\n",
    "                            try:\n",
    "                                #另存檔案\n",
    "                                #注意斜線\n",
    "                                img1.save('Screen\\\\Test\\\\double\\\\'+File1Name)\n",
    "                                ImageArray.remove(str(ImageArray[File1]))\n",
    "                            except OSError as e:\n",
    "                                print(e)\n",
    "\n",
    "                            print(\"相同 刪除\",File1Name)\n",
    "                        else:\n",
    "                            ImageArray.remove(str(ImageArray[File1]))\n",
    "                            ImageArray.remove(str(ImageArray[File2]))\n",
    "                            print(\"不相同  刪除\",File1,\" & \",File2)\n",
    "    except EOFError as e:\n",
    "        print(\"檔案錯誤\",e)\n",
    "\n",
    "\n",
    "    print(\"i結束\",i)\n",
    "                        \n",
    "                    \n",
    "    print(ImageArray)\n",
    "        \n",
    "        "
   ]
  },
  {
   "cell_type": "code",
   "execution_count": 68,
   "metadata": {},
   "outputs": [
    {
     "name": "stdout",
     "output_type": "stream",
     "text": [
      "檔案 Screen\\Test\\scan001.jpg\n",
      "檔案 Screen\\Test\\scan002.jpg\n",
      "檔案 Screen\\Test\\scan003.jpg\n",
      "檔案 Screen\\Test\\scan005.jpg\n",
      "檔案 Screen\\Test\\scan006.jpg\n",
      "檔案 Screen\\Test\\scan007.jpg\n",
      "檔案 Screen\\Test\\scan008.jpg\n",
      "檔案 Screen\\Test\\scan04.jpg\n",
      "檔案 ['Screen\\\\Test\\\\scan001.jpg', 'Screen\\\\Test\\\\scan002.jpg', 'Screen\\\\Test\\\\scan003.jpg', 'Screen\\\\Test\\\\scan005.jpg', 'Screen\\\\Test\\\\scan006.jpg', 'Screen\\\\Test\\\\scan007.jpg', 'Screen\\\\Test\\\\scan008.jpg', 'Screen\\\\Test\\\\scan04.jpg']\n",
      "Start\n",
      "///////比對/////// 1 次///////////////\n",
      "///////此次/////// ['Screen\\\\Test\\\\scan001.jpg', 'Screen\\\\Test\\\\scan002.jpg', 'Screen\\\\Test\\\\scan003.jpg', 'Screen\\\\Test\\\\scan005.jpg', 'Screen\\\\Test\\\\scan006.jpg', 'Screen\\\\Test\\\\scan007.jpg', 'Screen\\\\Test\\\\scan008.jpg', 'Screen\\\\Test\\\\scan04.jpg']\n",
      "比對 開檔 0\n",
      "//1// Screen\\Test\\scan001.jpg\n",
      "//2// Screen\\Test\\scan002.jpg\n",
      "取檔案OK，開始比對圖片\n",
      "相同 刪除 scan001.jpg\n",
      "///////比對/////// 2 次///////////////\n",
      "///////此次/////// ['Screen\\\\Test\\\\scan002.jpg', 'Screen\\\\Test\\\\scan003.jpg', 'Screen\\\\Test\\\\scan005.jpg', 'Screen\\\\Test\\\\scan006.jpg', 'Screen\\\\Test\\\\scan007.jpg', 'Screen\\\\Test\\\\scan008.jpg', 'Screen\\\\Test\\\\scan04.jpg']\n",
      "比對 開檔 1\n",
      "//1// Screen\\Test\\scan002.jpg\n",
      "//2// Screen\\Test\\scan003.jpg\n",
      "取檔案OK，開始比對圖片\n",
      "相同 刪除 scan002.jpg\n",
      "///////比對/////// 3 次///////////////\n",
      "///////此次/////// ['Screen\\\\Test\\\\scan003.jpg', 'Screen\\\\Test\\\\scan005.jpg', 'Screen\\\\Test\\\\scan006.jpg', 'Screen\\\\Test\\\\scan007.jpg', 'Screen\\\\Test\\\\scan008.jpg', 'Screen\\\\Test\\\\scan04.jpg']\n",
      "比對 開檔 2\n",
      "//1// Screen\\Test\\scan003.jpg\n",
      "//2// Screen\\Test\\scan005.jpg\n",
      "取檔案OK，開始比對圖片\n",
      "相同 刪除 scan003.jpg\n",
      "///////比對/////// 4 次///////////////\n",
      "///////此次/////// ['Screen\\\\Test\\\\scan005.jpg', 'Screen\\\\Test\\\\scan006.jpg', 'Screen\\\\Test\\\\scan007.jpg', 'Screen\\\\Test\\\\scan008.jpg', 'Screen\\\\Test\\\\scan04.jpg']\n",
      "比對 開檔 3\n",
      "//1// Screen\\Test\\scan005.jpg\n",
      "//2// Screen\\Test\\scan006.jpg\n",
      "取檔案OK，開始比對圖片\n",
      "相同 刪除 scan005.jpg\n",
      "///////比對/////// 5 次///////////////\n",
      "///////此次/////// ['Screen\\\\Test\\\\scan006.jpg', 'Screen\\\\Test\\\\scan007.jpg', 'Screen\\\\Test\\\\scan008.jpg', 'Screen\\\\Test\\\\scan04.jpg']\n",
      "比對 開檔 4\n",
      "//1// Screen\\Test\\scan006.jpg\n",
      "//2// Screen\\Test\\scan007.jpg\n",
      "取檔案OK，開始比對圖片\n",
      "相同 刪除 scan006.jpg\n",
      "///////比對/////// 6 次///////////////\n",
      "///////此次/////// ['Screen\\\\Test\\\\scan007.jpg', 'Screen\\\\Test\\\\scan008.jpg', 'Screen\\\\Test\\\\scan04.jpg']\n",
      "比對 開檔 5\n",
      "//1// Screen\\Test\\scan007.jpg\n",
      "//2// Screen\\Test\\scan008.jpg\n",
      "取檔案OK，開始比對圖片\n",
      "相同 刪除 scan007.jpg\n",
      "///////比對/////// 7 次///////////////\n",
      "///////此次/////// ['Screen\\\\Test\\\\scan008.jpg', 'Screen\\\\Test\\\\scan04.jpg']\n",
      "比對 開檔 6\n",
      "//1// Screen\\Test\\scan008.jpg\n",
      "//2// Screen\\Test\\scan04.jpg\n",
      "取檔案OK，開始比對圖片\n",
      "相同 刪除 scan008.jpg\n",
      "i結束 6\n",
      "['Screen\\\\Test\\\\scan04.jpg']\n"
     ]
    }
   ],
   "source": [
    "sleep_compare(1)"
   ]
  },
  {
   "cell_type": "code",
   "execution_count": null,
   "metadata": {},
   "outputs": [],
   "source": []
  }
 ],
 "metadata": {
  "kernelspec": {
   "display_name": "Python 3",
   "language": "python",
   "name": "python3"
  },
  "language_info": {
   "codemirror_mode": {
    "name": "ipython",
    "version": 3
   },
   "file_extension": ".py",
   "mimetype": "text/x-python",
   "name": "python",
   "nbconvert_exporter": "python",
   "pygments_lexer": "ipython3",
   "version": "3.7.3"
  }
 },
 "nbformat": 4,
 "nbformat_minor": 2
}

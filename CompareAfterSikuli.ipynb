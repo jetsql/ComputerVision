{
 "cells": [
  {
   "cell_type": "code",
   "execution_count": 34,
   "metadata": {},
   "outputs": [],
   "source": [
    "import glob\n",
    "import os\n",
    "from PIL import Image,ImageDraw"
   ]
  },
  {
   "cell_type": "markdown",
   "metadata": {},
   "source": [
    "## 自己寫的函式庫(匯入使用)"
   ]
  },
  {
   "cell_type": "code",
   "execution_count": 15,
   "metadata": {},
   "outputs": [
    {
     "name": "stdout",
     "output_type": "stream",
     "text": [
      "False\n"
     ]
    }
   ],
   "source": [
    "import CompareImage\n",
    "import Harr\n",
    "file='Screen/scan228.jpg'\n",
    "file2='Screen/scan226.jpg'\n",
    "print(CompareImage.CompareAlgo(file,file2))"
   ]
  },
  {
   "cell_type": "markdown",
   "metadata": {},
   "source": [
    "## BubbleSort Test"
   ]
  },
  {
   "cell_type": "code",
   "execution_count": 16,
   "metadata": {},
   "outputs": [],
   "source": [
    "def bubbleSort(arr): \n",
    "    n = len(arr) \n",
    "    # Traverse through all array elements \n",
    "    for i in range(n-1): \n",
    "    # range(n) also work but outer loop will repeat one time more than needed. \n",
    "    # Last i elements are already in place \n",
    "        for j in range(0, n-i-1): \n",
    "            \n",
    "            # traverse the array from 0 to n-i-1 \n",
    "            # Swap if the element found is greater \n",
    "            # than the next element \n",
    "            if arr[j] > arr[j+1] : \n",
    "                arr[j], arr[j+1] = arr[j+1], arr[j] \n"
   ]
  },
  {
   "cell_type": "code",
   "execution_count": 17,
   "metadata": {},
   "outputs": [
    {
     "name": "stdout",
     "output_type": "stream",
     "text": [
      "Sorted array is:\n",
      "11\n",
      "12\n",
      "22\n",
      "25\n",
      "34\n",
      "64\n",
      "90\n"
     ]
    }
   ],
   "source": [
    "# Driver code to test above \n",
    "arr = [64, 34, 25, 12, 22, 11, 90] \n",
    "  \n",
    "bubbleSort(arr) \n",
    "  \n",
    "print (\"Sorted array is:\") \n",
    "for i in range(len(arr)): \n",
    "    print (\"%d\" %arr[i])"
   ]
  },
  {
   "cell_type": "markdown",
   "metadata": {},
   "source": [
    "## 兩兩截圖比對"
   ]
  },
  {
   "cell_type": "code",
   "execution_count": 33,
   "metadata": {},
   "outputs": [
    {
     "ename": "SyntaxError",
     "evalue": "invalid syntax (<ipython-input-33-ab74ba2f87ac>, line 44)",
     "output_type": "error",
     "traceback": [
      "\u001b[1;36m  File \u001b[1;32m\"<ipython-input-33-ab74ba2f87ac>\"\u001b[1;36m, line \u001b[1;32m44\u001b[0m\n\u001b[1;33m    File1Name=str(ImageArray[File1]).split(\"\\\\\")[-1])\u001b[0m\n\u001b[1;37m                                                    ^\u001b[0m\n\u001b[1;31mSyntaxError\u001b[0m\u001b[1;31m:\u001b[0m invalid syntax\n"
     ]
    }
   ],
   "source": [
    "#比對等待(等待秒,截圖數量)\n",
    "def sleep_compare(sec):\n",
    "    #讀進前面截圖的資料\n",
    "    filepath='Screen\\\\Test\\\\'\n",
    "    myfiles=glob.glob(filepath+'/*.jpg')\n",
    "    #宣告字典\n",
    "    ImageArray=[]\n",
    "    for i,f in enumerate(myfiles):\n",
    "        #放到Arraay排隊\n",
    "        ImageArray.append(f)\n",
    "        print(\"檔案\",ImageArray[i])\n",
    "    #不能用len(Imagelist) 因int是不可以疊帶\n",
    "    for i in ImageArray:\n",
    "        #算數量\n",
    "        count=0\n",
    "        count+=1\n",
    "    \n",
    "    print(\"檔案\",ImageArray)\n",
    "\n",
    "    #判斷裡面沒大於2張無法比較\n",
    "    if len(ImageArray)<=1:\n",
    "        print(\"End\")\n",
    "    #如果超過兩張就兩兩比較\n",
    "    if len(ImageArray)>=2:\n",
    "        print(\"Start\")\n",
    "        #兩兩拉出 1跟2比，2跟3比，3跟4比\n",
    "        N=len(ImageArray)-1\n",
    "        #從i=0，j=0開始\n",
    "        for  i in range(N):\n",
    "            #for j in range(0,N-i-1):\n",
    "                #判斷裡面沒大於2張無法比較\n",
    "                if len(ImageArray)<1:\n",
    "                    print(\"End 結束\")\n",
    "                else:\n",
    "                    print(\"比對 開檔\",i)\n",
    "                    #取檔案順序\n",
    "                    File1=i\n",
    "                    File2=i+1\n",
    "\n",
    "                    #從隊伍撈出來開檔案\n",
    "                    img1=Image.open(ImageArray[File1])\n",
    "                    print('//1//',ImageArray[File1])\n",
    "                    #取檔名\n",
    "                    File1Name=str(ImageArray[File1]).split(\"\\\\\")[-1]\n",
    "                    #停頓\n",
    "                    #await asyncio.sleep(sec)\n",
    "                    #img1.show()\n",
    "                    #刪掉list第一個值(被開的檔名)\n",
    "                    #ImageArray.remove(str(ImageArray[File1]))\n",
    "                    img2=Image.open(ImageArray[File2])\n",
    "                    print('//2//',ImageArray[File2])\n",
    "                    #取檔名\n",
    "                    File2Name=str(ImageArray[File1]).split(\"\\\\\")[-1]\n",
    "                    #刪掉list第一個值(被開的檔名)\n",
    "                    #ImageArray.remove(str(ImageArray[File2]))\n",
    "                    #img2.show()\n",
    "                    print(\"取檔案OK，開始比對圖片\")\n",
    "                    rate=CompareImage.CompareAlgo(img1,img2)\n",
    "                    #比對相似度\n",
    "                    if(CompareImage.CompareAlgo(img1,img2)==True):\n",
    "                        \n",
    "                        RemoveFile=ImageArray[File1]\n",
    "                        try:\n",
    "                            os.remove(RemoveFile)\n",
    "                        except OSError as e:\n",
    "                            print(e)\n",
    "                        else:\n",
    "                            print(\"刪除\",File1Name)\n",
    "                    else:\n",
    "                        print(\"不相同\")\n",
    "                        \n",
    "                        \n",
    "    print(\"i結束\",i)\n",
    "                        \n",
    "                    \n",
    "    print(ImageArray)\n",
    "        \n",
    "        "
   ]
  },
  {
   "cell_type": "code",
   "execution_count": 32,
   "metadata": {},
   "outputs": [
    {
     "name": "stdout",
     "output_type": "stream",
     "text": [
      "檔案 Screen\\Test\\scan001.jpg\n",
      "檔案 Screen\\Test\\scan002.jpg\n",
      "檔案 Screen\\Test\\scan003.jpg\n",
      "檔案 Screen\\Test\\scan004.jpg\n",
      "檔案 Screen\\Test\\scan005.jpg\n",
      "檔案 Screen\\Test\\scan006.jpg\n",
      "檔案 Screen\\Test\\scan007.jpg\n",
      "檔案 ['Screen\\\\Test\\\\scan001.jpg', 'Screen\\\\Test\\\\scan002.jpg', 'Screen\\\\Test\\\\scan003.jpg', 'Screen\\\\Test\\\\scan004.jpg', 'Screen\\\\Test\\\\scan005.jpg', 'Screen\\\\Test\\\\scan006.jpg', 'Screen\\\\Test\\\\scan007.jpg']\n",
      "Start\n",
      "比對 開檔 0\n",
      "//1// Screen\\Test\\scan001.jpg\n",
      "檔名 scan001.jpg\n",
      "//2// Screen\\Test\\scan002.jpg\n",
      "OK\n",
      "比對 開檔 1\n",
      "//1// Screen\\Test\\scan002.jpg\n",
      "檔名 scan002.jpg\n",
      "//2// Screen\\Test\\scan003.jpg\n",
      "OK\n",
      "比對 開檔 2\n",
      "//1// Screen\\Test\\scan003.jpg\n",
      "檔名 scan003.jpg\n",
      "//2// Screen\\Test\\scan004.jpg\n",
      "OK\n",
      "比對 開檔 3\n",
      "//1// Screen\\Test\\scan004.jpg\n",
      "檔名 scan004.jpg\n",
      "//2// Screen\\Test\\scan005.jpg\n",
      "OK\n",
      "比對 開檔 4\n",
      "//1// Screen\\Test\\scan005.jpg\n",
      "檔名 scan005.jpg\n",
      "//2// Screen\\Test\\scan006.jpg\n",
      "OK\n",
      "比對 開檔 5\n",
      "//1// Screen\\Test\\scan006.jpg\n",
      "檔名 scan006.jpg\n",
      "//2// Screen\\Test\\scan007.jpg\n",
      "OK\n",
      "i結束 5\n",
      "['Screen\\\\Test\\\\scan001.jpg', 'Screen\\\\Test\\\\scan002.jpg', 'Screen\\\\Test\\\\scan003.jpg', 'Screen\\\\Test\\\\scan004.jpg', 'Screen\\\\Test\\\\scan005.jpg', 'Screen\\\\Test\\\\scan006.jpg', 'Screen\\\\Test\\\\scan007.jpg']\n"
     ]
    }
   ],
   "source": [
    "sleep_compare(1)"
   ]
  },
  {
   "cell_type": "code",
   "execution_count": null,
   "metadata": {},
   "outputs": [],
   "source": []
  }
 ],
 "metadata": {
  "kernelspec": {
   "display_name": "Python 3",
   "language": "python",
   "name": "python3"
  },
  "language_info": {
   "codemirror_mode": {
    "name": "ipython",
    "version": 3
   },
   "file_extension": ".py",
   "mimetype": "text/x-python",
   "name": "python",
   "nbconvert_exporter": "python",
   "pygments_lexer": "ipython3",
   "version": "3.7.3"
  }
 },
 "nbformat": 4,
 "nbformat_minor": 2
}

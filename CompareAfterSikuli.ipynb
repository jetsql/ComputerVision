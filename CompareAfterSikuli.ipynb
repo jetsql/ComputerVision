{
 "cells": [
  {
   "cell_type": "code",
   "execution_count": 4,
   "metadata": {},
   "outputs": [],
   "source": [
    "import glob\n",
    "import os\n",
    "import cv2\n",
    "import numpy as np\n",
    "from PIL import Image,ImageDraw\n",
    "import matplotlib.pyplot as plt"
   ]
  },
  {
   "cell_type": "markdown",
   "metadata": {},
   "source": [
    "## 自己寫的函式庫(匯入使用)"
   ]
  },
  {
   "cell_type": "code",
   "execution_count": 5,
   "metadata": {},
   "outputs": [
    {
     "name": "stdout",
     "output_type": "stream",
     "text": [
      "[0.60714513]\n",
      "False\n",
      "[0.5251305]\n"
     ]
    }
   ],
   "source": [
    "import CompareImageII\n",
    "import Harr\n",
    "#一定要\"/\"，這個方向\n",
    "file1='Screen/transport/OG/OG001.jpg'\n",
    "file2='Screen/transport/OG/OG007.jpg'\n",
    "print(CompareImageII.CompareAlgo(file1,file2))\n",
    "img1=cv2.imread(file1)\n",
    "img2=cv2.imread(file2)\n",
    "print(CompareImageII.calculate(img1,img2))"
   ]
  },
  {
   "cell_type": "markdown",
   "metadata": {},
   "source": [
    "## 尋找黑色元素"
   ]
  },
  {
   "cell_type": "code",
   "execution_count": 8,
   "metadata": {},
   "outputs": [],
   "source": [
    "def replace_color_tran(img, src_clr):\n",
    "    #要用cv2.imread來開檔案，不然會有src錯誤\n",
    "    Count_Black=0\n",
    "    ret,thresh1 = cv2.threshold(img,100,200,cv2.THRESH_BINARY)\n",
    "    print(\"Binary_Inv\")\n",
    "    #Test 1，有問題\n",
    "    contours,hierarchy=cv2.findContours(thresh1,cv2.RETR_TREE,cv2.CHAIN_APPROX_SIMPLE)\n",
    "    cv2,drawContours(img,contours,-1,(0,0,255),3)\n",
    "    \n",
    "    cv2.imshow(\"img\", img)  \n",
    "    cv2.waitKey(0) \n",
    "    '''\n",
    "    #Test 2，找不太到\n",
    "    img_arr = np.asarray(thresh1, dtype=np.double)\n",
    "    for i in range(img_arr.shape[1]):\n",
    "        for j in range(img_arr.shape[0]):\n",
    "            if (img_arr[j][i] == src_clr)[0] == True:\n",
    "                Count_Black+=1\n",
    "    return Count_Black\n",
    "    '''"
   ]
  },
  {
   "cell_type": "code",
   "execution_count": 9,
   "metadata": {},
   "outputs": [
    {
     "name": "stdout",
     "output_type": "stream",
     "text": [
      "Binary_Inv\n"
     ]
    },
    {
     "ename": "error",
     "evalue": "OpenCV(4.5.1) C:\\Users\\appveyor\\AppData\\Local\\Temp\\1\\pip-req-build-oduouqig\\opencv\\modules\\imgproc\\src\\contours.cpp:197: error: (-210:Unsupported format or combination of formats) [Start]FindContours supports only CV_8UC1 images when mode != CV_RETR_FLOODFILL otherwise supports CV_32SC1 images only in function 'cvStartFindContours_Impl'\n",
     "output_type": "error",
     "traceback": [
      "\u001b[1;31m---------------------------------------------------------------------------\u001b[0m",
      "\u001b[1;31merror\u001b[0m                                     Traceback (most recent call last)",
      "\u001b[1;32m<ipython-input-9-cb0006badbc2>\u001b[0m in \u001b[0;36m<module>\u001b[1;34m\u001b[0m\n\u001b[0;32m      1\u001b[0m \u001b[0mimg\u001b[0m\u001b[1;33m=\u001b[0m\u001b[0mcv2\u001b[0m\u001b[1;33m.\u001b[0m\u001b[0mimread\u001b[0m\u001b[1;33m(\u001b[0m\u001b[1;34m'Screen/transport/OG008.jpg'\u001b[0m\u001b[1;33m)\u001b[0m\u001b[1;33m\u001b[0m\u001b[1;33m\u001b[0m\u001b[0m\n\u001b[0;32m      2\u001b[0m \u001b[0mimg2\u001b[0m\u001b[1;33m=\u001b[0m\u001b[0mcv2\u001b[0m\u001b[1;33m.\u001b[0m\u001b[0mimread\u001b[0m\u001b[1;33m(\u001b[0m\u001b[1;34m'Screen/transport/OG005.jpg'\u001b[0m\u001b[1;33m)\u001b[0m\u001b[1;33m\u001b[0m\u001b[1;33m\u001b[0m\u001b[0m\n\u001b[1;32m----> 3\u001b[1;33m \u001b[0mprint\u001b[0m\u001b[1;33m(\u001b[0m\u001b[1;34m'白色兩刀'\u001b[0m\u001b[1;33m,\u001b[0m\u001b[0mreplace_color_tran\u001b[0m\u001b[1;33m(\u001b[0m\u001b[0mimg\u001b[0m\u001b[1;33m,\u001b[0m\u001b[1;33m(\u001b[0m\u001b[1;36m255\u001b[0m\u001b[1;33m,\u001b[0m\u001b[1;36m255\u001b[0m\u001b[1;33m,\u001b[0m\u001b[1;36m255\u001b[0m\u001b[1;33m)\u001b[0m\u001b[1;33m)\u001b[0m\u001b[1;33m)\u001b[0m\u001b[1;33m\u001b[0m\u001b[1;33m\u001b[0m\u001b[0m\n\u001b[0m\u001b[0;32m      4\u001b[0m \u001b[0mprint\u001b[0m\u001b[1;33m(\u001b[0m\u001b[1;34m'白色一刀'\u001b[0m\u001b[1;33m,\u001b[0m\u001b[0mreplace_color_tran\u001b[0m\u001b[1;33m(\u001b[0m\u001b[0mimg2\u001b[0m\u001b[1;33m,\u001b[0m\u001b[1;33m(\u001b[0m\u001b[1;36m255\u001b[0m\u001b[1;33m,\u001b[0m\u001b[1;36m255\u001b[0m\u001b[1;33m,\u001b[0m\u001b[1;36m255\u001b[0m\u001b[1;33m)\u001b[0m\u001b[1;33m)\u001b[0m\u001b[1;33m)\u001b[0m\u001b[1;33m\u001b[0m\u001b[1;33m\u001b[0m\u001b[0m\n",
      "\u001b[1;32m<ipython-input-8-a6ab7ec2bab7>\u001b[0m in \u001b[0;36mreplace_color_tran\u001b[1;34m(img, src_clr)\u001b[0m\n\u001b[0;32m      5\u001b[0m     \u001b[0mprint\u001b[0m\u001b[1;33m(\u001b[0m\u001b[1;34m\"Binary_Inv\"\u001b[0m\u001b[1;33m)\u001b[0m\u001b[1;33m\u001b[0m\u001b[1;33m\u001b[0m\u001b[0m\n\u001b[0;32m      6\u001b[0m     \u001b[1;31m#Test 1\u001b[0m\u001b[1;33m\u001b[0m\u001b[1;33m\u001b[0m\u001b[1;33m\u001b[0m\u001b[0m\n\u001b[1;32m----> 7\u001b[1;33m     \u001b[0mcontours\u001b[0m\u001b[1;33m,\u001b[0m\u001b[0mhierarchy\u001b[0m\u001b[1;33m=\u001b[0m\u001b[0mcv2\u001b[0m\u001b[1;33m.\u001b[0m\u001b[0mfindContours\u001b[0m\u001b[1;33m(\u001b[0m\u001b[0mthresh1\u001b[0m\u001b[1;33m,\u001b[0m\u001b[0mcv2\u001b[0m\u001b[1;33m.\u001b[0m\u001b[0mRETR_TREE\u001b[0m\u001b[1;33m,\u001b[0m\u001b[0mcv2\u001b[0m\u001b[1;33m.\u001b[0m\u001b[0mCHAIN_APPROX_SIMPLE\u001b[0m\u001b[1;33m)\u001b[0m\u001b[1;33m\u001b[0m\u001b[1;33m\u001b[0m\u001b[0m\n\u001b[0m\u001b[0;32m      8\u001b[0m     \u001b[0mcv2\u001b[0m\u001b[1;33m,\u001b[0m\u001b[0mdrawContours\u001b[0m\u001b[1;33m(\u001b[0m\u001b[0mimg\u001b[0m\u001b[1;33m,\u001b[0m\u001b[0mcontours\u001b[0m\u001b[1;33m,\u001b[0m\u001b[1;33m-\u001b[0m\u001b[1;36m1\u001b[0m\u001b[1;33m,\u001b[0m\u001b[1;33m(\u001b[0m\u001b[1;36m0\u001b[0m\u001b[1;33m,\u001b[0m\u001b[1;36m0\u001b[0m\u001b[1;33m,\u001b[0m\u001b[1;36m255\u001b[0m\u001b[1;33m)\u001b[0m\u001b[1;33m,\u001b[0m\u001b[1;36m3\u001b[0m\u001b[1;33m)\u001b[0m\u001b[1;33m\u001b[0m\u001b[1;33m\u001b[0m\u001b[0m\n\u001b[0;32m      9\u001b[0m \u001b[1;33m\u001b[0m\u001b[0m\n",
      "\u001b[1;31merror\u001b[0m: OpenCV(4.5.1) C:\\Users\\appveyor\\AppData\\Local\\Temp\\1\\pip-req-build-oduouqig\\opencv\\modules\\imgproc\\src\\contours.cpp:197: error: (-210:Unsupported format or combination of formats) [Start]FindContours supports only CV_8UC1 images when mode != CV_RETR_FLOODFILL otherwise supports CV_32SC1 images only in function 'cvStartFindContours_Impl'\n"
     ]
    }
   ],
   "source": [
    "img=cv2.imread('Screen/transport/OG008.jpg')\n",
    "img2=cv2.imread('Screen/transport/OG005.jpg')\n",
    "print('白色兩刀',replace_color_tran(img,(255,255,255)))\n",
    "print('白色一刀',replace_color_tran(img2,(255,255,255)))"
   ]
  },
  {
   "cell_type": "code",
   "execution_count": 108,
   "metadata": {},
   "outputs": [
    {
     "data": {
      "image/png": "[encoded data removed]",
      "text/plain": [
       "<Figure size 432x288 with 1 Axes>"
      ]
     },
     "metadata": {
      "needs_background": "light"
     },
     "output_type": "display_data"
    },
    {
     "data": {
      "image/png": "[encoded data removed]",
      "text/plain": [
       "<Figure size 432x288 with 1 Axes>"
      ]
     },
     "metadata": {
      "needs_background": "light"
     },
     "output_type": "display_data"
    }
   ],
   "source": [
    "img=cv2.imread('Screen/transport/OG003.jpg',0)\n",
    "img_cut=cv2.imread('Screen/transport/OG008.jpg',0)\n",
    "UP=255;LOWER=100\n",
    "#像素多的二值化\n",
    "ret,thresh1=cv2.threshold(img,LOWER,UP,cv2.THRESH_TOZERO)\n",
    "ret,thresh2=cv2.threshold(img_cut,LOWER,UP,cv2.THRESH_TOZERO)\n",
    "hist1 = cv2.calcHist([thresh1],[0],None,[256],[0.0,255.0]) \n",
    "hist2 = cv2.calcHist([thresh2],[0],None,[256],[0.0,255.0]) \n",
    "plt.plot(range(256),hist1,'r') \n",
    "plt.plot(range(256),hist2,'b') \n",
    "plt.show() \n",
    "#只留黑色切割\n",
    "ret,thresh3=cv2.threshold(img,LOWER,UP,cv2.THRESH_BINARY)\n",
    "ret,thresh4=cv2.threshold(img_cut,LOWER,UP,cv2.THRESH_BINARY)\n",
    "hist3=cv2.calcHist([thresh3],[0],None,[256],[0.0,255.0])\n",
    "hist4=cv2.calcHist([thresh4],[0],None,[256],[0.0,255.0])\n",
    "plt.plot(range(256),hist3,'r')\n",
    "plt.plot(range(256),hist4,'k')\n",
    "#只留白色切割\n",
    "ret,thresh5=cv2.threshold(img,LOWER,UP,cv2.THRESH_BINARY_INV)\n",
    "ret,thresh6=cv2.threshold(img_cut,LOWER,UP,cv2.THRESH_BINARY_INV)"
   ]
  },
  {
   "cell_type": "code",
   "execution_count": 118,
   "metadata": {},
   "outputs": [
    {
     "data": {
      "image/png": "[encoded data removed]",
      "text/plain": [
       "<Figure size 432x288 with 8 Axes>"
      ]
     },
     "metadata": {},
     "output_type": "display_data"
    }
   ],
   "source": [
    "img = cv2.imread('Screen/transport/OG003.jpg',0)\n",
    "img_cut = cv2.imread('Screen/transport/OG008.jpg',0)\n",
    "#(影像,分類閥值,賦予新值,選擇參數)\n",
    "UP=255\n",
    "LOWER=110\n",
    "ret,thresh1 = cv2.threshold(img_cut,LOWER,UP,cv2.THRESH_BINARY)\n",
    "ret,thresh2 = cv2.threshold(img_cut,LOWER,UP,cv2.THRESH_BINARY_INV)\n",
    "ret,thresh3 = cv2.threshold(img_cut,LOWER,UP,cv2.THRESH_TRUNC)\n",
    "\n",
    "ret,thresh4 = cv2.threshold(img_cut,LOWER,UP,cv2.THRESH_TOZERO)\n",
    "\n",
    "ret,thresh42 =cv2.threshold(img,LOWER,UP,cv2.THRESH_TOZERO)\n",
    "\n",
    "ret,thresh5 = cv2.threshold(img_cut,LOWER,UP,cv2.THRESH_TOZERO_INV)\n",
    "thresh6 = cv2.adaptiveThreshold(img_cut,LOWER,cv2.ADAPTIVE_THRESH_MEAN_C,cv2.THRESH_BINARY,11,2)\n",
    "thresh7 = cv2.adaptiveThreshold(img_cut,LOWER,cv2.ADAPTIVE_THRESH_GAUSSIAN_C,cv2.THRESH_BINARY,11,2)\n",
    "\n",
    "#存檔\n",
    "cv2.save(thresh1)\n",
    "    \n",
    "titles = ['img','BINARY','BINARY_INV','TRUNC','TOZERO','TOZERO_INV','Auto1','Auto2']\n",
    "images = [img,thresh1,thresh2,thresh3,thresh4,thresh5,thresh6,thresh7]\n",
    "for i in range(8):\n",
    "    plt.subplot(2,4,i+1),plt.imshow(images[i],'gray')\n",
    "    plt.title(titles[i])\n",
    "    plt.xticks([]),plt.yticks([])\n",
    "plt.show()"
   ]
  },
  {
   "cell_type": "markdown",
   "metadata": {},
   "source": [
    "## BubbleSort Test"
   ]
  },
  {
   "cell_type": "code",
   "execution_count": 82,
   "metadata": {},
   "outputs": [],
   "source": [
    "def bubbleSort(arr): \n",
    "    n = len(arr) \n",
    "    # Traverse through all array elements \n",
    "    for i in range(n-1): \n",
    "    # range(n) also work but outer loop will repeat one time more than needed. \n",
    "    # Last i elements are already in place \n",
    "        for j in range(0, n-i-1): \n",
    "            \n",
    "            # traverse the array from 0 to n-i-1 \n",
    "            # Swap if the element found is greater \n",
    "            # than the next element \n",
    "            if arr[j] > arr[j+1] : \n",
    "                arr[j], arr[j+1] = arr[j+1], arr[j] \n"
   ]
  },
  {
   "cell_type": "code",
   "execution_count": 83,
   "metadata": {},
   "outputs": [
    {
     "name": "stdout",
     "output_type": "stream",
     "text": [
      "Sorted array is:\n",
      "11\n",
      "12\n",
      "22\n",
      "25\n",
      "34\n",
      "64\n",
      "90\n"
     ]
    }
   ],
   "source": [
    "# Driver code to test above \n",
    "arr = [64, 34, 25, 12, 22, 11, 90] \n",
    "  \n",
    "bubbleSort(arr) \n",
    "  \n",
    "print (\"Sorted array is:\") \n",
    "for i in range(len(arr)): \n",
    "    print (\"%d\" %arr[i])"
   ]
  },
  {
   "cell_type": "markdown",
   "metadata": {},
   "source": [
    "## 兩兩截圖比對"
   ]
  },
  {
   "cell_type": "code",
   "execution_count": 67,
   "metadata": {},
   "outputs": [],
   "source": [
    "#比對等待(等待秒,截圖數量)\n",
    "def sleep_compare(sec):\n",
    "    #讀進前面截圖的資料\n",
    "    filepath='Screen\\\\Test\\\\'\n",
    "    myfiles=glob.glob(filepath+'*.jpg')\n",
    "    #宣告字典\n",
    "    ImageArray=[]\n",
    "    for i,f in enumerate(myfiles):\n",
    "        #放到Arraay排隊\n",
    "        ImageArray.append(f)\n",
    "        print(\"檔案\",ImageArray[i])\n",
    "    #不能用len(Imagelist) 因int是不可以疊帶\n",
    "    for i in ImageArray:\n",
    "        #算數量\n",
    "        count=0\n",
    "        count+=1\n",
    "    \n",
    "    print(\"檔案\",ImageArray)\n",
    "    try:\n",
    "        #判斷裡面沒大於2張無法比較\n",
    "        if len(ImageArray)<=1:\n",
    "            print(\"End\")\n",
    "        #如果超過兩張就兩兩比較\n",
    "        if len(ImageArray)>=2:\n",
    "            print(\"Start\")\n",
    "            #兩兩拉出 1跟2比，2跟3比，3跟4比\n",
    "            N=len(ImageArray)-1\n",
    "            #從i=0，j=0開始\n",
    "            for  i in range(N):\n",
    "                    print(\"///////比對///////\",i+1,\"次///////////////\")\n",
    "                    print(\"///////此次///////\",ImageArray)\n",
    "                #判斷裡面沒大於2張無法比較\n",
    "                    if len(ImageArray)<1:\n",
    "                        print(\"End 結束\")\n",
    "                    else:\n",
    "                        \n",
    "                        #取檔案順序\n",
    "                        File1=0\n",
    "                        File2=1\n",
    "                        print(\"比對 開檔\",i)\n",
    "\n",
    "                        #從隊伍撈出來開檔案\n",
    "                        img1=Image.open(ImageArray[File1])\n",
    "                        print('//1//',ImageArray[File1])\n",
    "                        #取檔名\n",
    "                        File1Name=str(ImageArray[File1]).split(\"\\\\\")[-1]\n",
    "                        #停頓\n",
    "                        #await asyncio.sleep(sec)\n",
    "                        #img1.show()\n",
    "                        #刪掉list第一個值(被開的檔名)\n",
    "                        #ImageArray.remove(str(ImageArray[File1]))\n",
    "                        img2=Image.open(ImageArray[File2])\n",
    "                        print('//2//',ImageArray[File2])\n",
    "                        #取檔名\n",
    "                        File2Name=str(ImageArray[File1]).split(\"\\\\\")[-1]\n",
    "                        #刪掉list第一個值(被開的檔名)\n",
    "                        #ImageArray.remove(str(ImageArray[File2]))\n",
    "                        #img2.show()\n",
    "                        print(\"取檔案OK，開始比對圖片\")\n",
    "                        #比對相似度\n",
    "                        rate=CompareImageII.CompareAlgo(ImageArray[File1],ImageArray[File2])\n",
    "                        if(rate==True):\n",
    "\n",
    "                            #RemoveFile=ImageArray[File1]\n",
    "                            try:\n",
    "                                #另存檔案\n",
    "                                #注意斜線\n",
    "                                img1.save('Screen\\\\Test\\\\double\\\\'+File1Name)\n",
    "                                ImageArray.remove(str(ImageArray[File1]))\n",
    "                            except OSError as e:\n",
    "                                print(e)\n",
    "\n",
    "                            print(\"相同 刪除\",File1Name)\n",
    "                        else:\n",
    "                            ImageArray.remove(str(ImageArray[File1]))\n",
    "                            ImageArray.remove(str(ImageArray[File2]))\n",
    "                            print(\"不相同  刪除\",File1,\" & \",File2)\n",
    "    except EOFError as e:\n",
    "        print(\"檔案錯誤\",e)\n",
    "\n",
    "\n",
    "    print(\"i結束\",i)\n",
    "                        \n",
    "                    \n",
    "    print(ImageArray)\n",
    "        \n",
    "        "
   ]
  },
  {
   "cell_type": "code",
   "execution_count": 68,
   "metadata": {},
   "outputs": [
    {
     "name": "stdout",
     "output_type": "stream",
     "text": [
      "檔案 Screen\\Test\\scan001.jpg\n",
      "檔案 Screen\\Test\\scan002.jpg\n",
      "檔案 Screen\\Test\\scan003.jpg\n",
      "檔案 Screen\\Test\\scan005.jpg\n",
      "檔案 Screen\\Test\\scan006.jpg\n",
      "檔案 Screen\\Test\\scan007.jpg\n",
      "檔案 Screen\\Test\\scan008.jpg\n",
      "檔案 Screen\\Test\\scan04.jpg\n",
      "檔案 ['Screen\\\\Test\\\\scan001.jpg', 'Screen\\\\Test\\\\scan002.jpg', 'Screen\\\\Test\\\\scan003.jpg', 'Screen\\\\Test\\\\scan005.jpg', 'Screen\\\\Test\\\\scan006.jpg', 'Screen\\\\Test\\\\scan007.jpg', 'Screen\\\\Test\\\\scan008.jpg', 'Screen\\\\Test\\\\scan04.jpg']\n",
      "Start\n",
      "///////比對/////// 1 次///////////////\n",
      "///////此次/////// ['Screen\\\\Test\\\\scan001.jpg', 'Screen\\\\Test\\\\scan002.jpg', 'Screen\\\\Test\\\\scan003.jpg', 'Screen\\\\Test\\\\scan005.jpg', 'Screen\\\\Test\\\\scan006.jpg', 'Screen\\\\Test\\\\scan007.jpg', 'Screen\\\\Test\\\\scan008.jpg', 'Screen\\\\Test\\\\scan04.jpg']\n",
      "比對 開檔 0\n",
      "//1// Screen\\Test\\scan001.jpg\n",
      "//2// Screen\\Test\\scan002.jpg\n",
      "取檔案OK，開始比對圖片\n",
      "相同 刪除 scan001.jpg\n",
      "///////比對/////// 2 次///////////////\n",
      "///////此次/////// ['Screen\\\\Test\\\\scan002.jpg', 'Screen\\\\Test\\\\scan003.jpg', 'Screen\\\\Test\\\\scan005.jpg', 'Screen\\\\Test\\\\scan006.jpg', 'Screen\\\\Test\\\\scan007.jpg', 'Screen\\\\Test\\\\scan008.jpg', 'Screen\\\\Test\\\\scan04.jpg']\n",
      "比對 開檔 1\n",
      "//1// Screen\\Test\\scan002.jpg\n",
      "//2// Screen\\Test\\scan003.jpg\n",
      "取檔案OK，開始比對圖片\n",
      "相同 刪除 scan002.jpg\n",
      "///////比對/////// 3 次///////////////\n",
      "///////此次/////// ['Screen\\\\Test\\\\scan003.jpg', 'Screen\\\\Test\\\\scan005.jpg', 'Screen\\\\Test\\\\scan006.jpg', 'Screen\\\\Test\\\\scan007.jpg', 'Screen\\\\Test\\\\scan008.jpg', 'Screen\\\\Test\\\\scan04.jpg']\n",
      "比對 開檔 2\n",
      "//1// Screen\\Test\\scan003.jpg\n",
      "//2// Screen\\Test\\scan005.jpg\n",
      "取檔案OK，開始比對圖片\n",
      "相同 刪除 scan003.jpg\n",
      "///////比對/////// 4 次///////////////\n",
      "///////此次/////// ['Screen\\\\Test\\\\scan005.jpg', 'Screen\\\\Test\\\\scan006.jpg', 'Screen\\\\Test\\\\scan007.jpg', 'Screen\\\\Test\\\\scan008.jpg', 'Screen\\\\Test\\\\scan04.jpg']\n",
      "比對 開檔 3\n",
      "//1// Screen\\Test\\scan005.jpg\n",
      "//2// Screen\\Test\\scan006.jpg\n",
      "取檔案OK，開始比對圖片\n",
      "相同 刪除 scan005.jpg\n",
      "///////比對/////// 5 次///////////////\n",
      "///////此次/////// ['Screen\\\\Test\\\\scan006.jpg', 'Screen\\\\Test\\\\scan007.jpg', 'Screen\\\\Test\\\\scan008.jpg', 'Screen\\\\Test\\\\scan04.jpg']\n",
      "比對 開檔 4\n",
      "//1// Screen\\Test\\scan006.jpg\n",
      "//2// Screen\\Test\\scan007.jpg\n",
      "取檔案OK，開始比對圖片\n",
      "相同 刪除 scan006.jpg\n",
      "///////比對/////// 6 次///////////////\n",
      "///////此次/////// ['Screen\\\\Test\\\\scan007.jpg', 'Screen\\\\Test\\\\scan008.jpg', 'Screen\\\\Test\\\\scan04.jpg']\n",
      "比對 開檔 5\n",
      "//1// Screen\\Test\\scan007.jpg\n",
      "//2// Screen\\Test\\scan008.jpg\n",
      "取檔案OK，開始比對圖片\n",
      "相同 刪除 scan007.jpg\n",
      "///////比對/////// 7 次///////////////\n",
      "///////此次/////// ['Screen\\\\Test\\\\scan008.jpg', 'Screen\\\\Test\\\\scan04.jpg']\n",
      "比對 開檔 6\n",
      "//1// Screen\\Test\\scan008.jpg\n",
      "//2// Screen\\Test\\scan04.jpg\n",
      "取檔案OK，開始比對圖片\n",
      "相同 刪除 scan008.jpg\n",
      "i結束 6\n",
      "['Screen\\\\Test\\\\scan04.jpg']\n"
     ]
    }
   ],
   "source": [
    "sleep_compare(1)"
   ]
  },
  {
   "cell_type": "code",
   "execution_count": null,
   "metadata": {},
   "outputs": [],
   "source": []
  }
 ],
 "metadata": {
  "kernelspec": {
   "display_name": "Python 3",
   "language": "python",
   "name": "python3"
  },
  "language_info": {
   "codemirror_mode": {
    "name": "ipython",
    "version": 3
   },
   "file_extension": ".py",
   "mimetype": "text/x-python",
   "name": "python",
   "nbconvert_exporter": "python",
   "pygments_lexer": "ipython3",
   "version": "3.7.3"
  }
 },
 "nbformat": 4,
 "nbformat_minor": 2
}

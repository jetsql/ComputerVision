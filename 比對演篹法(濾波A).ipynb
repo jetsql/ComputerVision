{
 "cells": [
  {
   "cell_type": "markdown",
   "metadata": {},
   "source": [
    "## import"
   ]
  },
  {
   "cell_type": "code",
   "execution_count": 1,
   "metadata": {},
   "outputs": [],
   "source": [
    "import cv2\n",
    "import numpy as np\n",
    "import PIL\n",
    "from PIL import Image\n",
    "import shutil,os,sys\n",
    "import glob\n",
    "from time import sleep\n",
    "import time\n",
    "import matplotlib.pyplot as plt\n",
    "#import matplotlib.image as ImagePG"
   ]
  },
  {
   "cell_type": "markdown",
   "metadata": {},
   "source": [
    "## 確認檔案"
   ]
  },
  {
   "cell_type": "code",
   "execution_count": 2,
   "metadata": {},
   "outputs": [],
   "source": [
    "def CheckFile(path):\n",
    "    filepath='Screen/transport/'+path.split(\"/\")[-1] \n",
    "    if os.path.isfile(filepath):\n",
    "        os.remove(filepath)"
   ]
  },
  {
   "cell_type": "markdown",
   "metadata": {},
   "source": [
    "## 統一大小"
   ]
  },
  {
   "cell_type": "code",
   "execution_count": 3,
   "metadata": {},
   "outputs": [],
   "source": [
    "#單改一張大小\n",
    "def ChangeSize(filename):\n",
    "        img=Image.open(filename)\n",
    "        #尺寸轉換200x200\n",
    "        img_new=img.resize((500,500),PIL.Image.ANTIALIAS)\n",
    "        #注意斜線方向\n",
    "        img_new.save('Screen/transport/'+filename.split(\"/\")[-1] )"
   ]
  },
  {
   "cell_type": "markdown",
   "metadata": {},
   "source": [
    "## 前處理(濾波A)"
   ]
  },
  {
   "cell_type": "code",
   "execution_count": 4,
   "metadata": {},
   "outputs": [],
   "source": [
    "#圖片,要不要存檔\n",
    "def ImageProcess(imgpath,switch):\n",
    "    img=cv2.imread(imgpath)\n",
    "    #/////Laplacian//////\n",
    "    gray_lap = cv2.Laplacian(img, cv2.CV_16S, ksize=3)\n",
    "    dst = cv2.convertScaleAbs(gray_lap) # 轉回uint8\n",
    "    #/////Laplacian//////\n",
    "    \n",
    "    #/////存檔/////\n",
    "    if switch == 1:\n",
    "        #取檔案名\n",
    "        #split處理檔名\n",
    "        #注意斜線方向\n",
    "        cv2.imwrite('Screen/transport/'+imgpath.split(\"/\")[-1],dst)"
   ]
  },
  {
   "cell_type": "markdown",
   "metadata": {},
   "source": [
    "## CheckSum-計算單通道的直方圖的相似值"
   ]
  },
  {
   "cell_type": "code",
   "execution_count": 11,
   "metadata": {},
   "outputs": [],
   "source": [
    "# 計算單通道的直方圖的相似值 \n",
    "def calculate(image1,image2): \n",
    "    #cv2.calcHist(影像, 通道, 遮罩, 區間數量, 數值範圍)\n",
    "    hist1 = cv2.calcHist([image1],[0],None,[256],[0.0,255.0]) \n",
    "    hist2 = cv2.calcHist([image2],[0],None,[256],[0.0,255.0]) \n",
    "    # 畫圖\n",
    "    '''\n",
    "    plt.plot(range(256),hist1,'r') \n",
    "    plt.plot(range(256),hist2,'b') \n",
    "    plt.show() \n",
    "    '''\n",
    "    \n",
    "    # 計算直方圖的重合度 \n",
    "    degree = 0 \n",
    "    for i in range(len(hist1)): \n",
    "        if hist1[i] != hist2[i]: \n",
    "            degree = degree + (1 - abs(hist1[i]-hist2[i])/max(hist1[i],hist2[i])) \n",
    "        else: \n",
    "            degree = degree + 1 \n",
    "    degree = degree/len(hist1)\n",
    "    \n",
    "    return degree "
   ]
  },
  {
   "cell_type": "markdown",
   "metadata": {},
   "source": [
    "## 設定門檻"
   ]
  },
  {
   "cell_type": "code",
   "execution_count": 6,
   "metadata": {},
   "outputs": [],
   "source": [
    "def CompareThreshold():\n",
    "    #用兩兩比較出的數值當作門檻\n",
    "    #設門檻0.969\n",
    "    #0.6881\n",
    "    rate=calculate(cv2.imread('Screen/compare/c001.jpg'),cv2.imread('Screen/compare/c002.jpg'))\n",
    "    return rate\n"
   ]
  },
  {
   "cell_type": "markdown",
   "metadata": {},
   "source": [
    "## 合併比對"
   ]
  },
  {
   "cell_type": "code",
   "execution_count": 8,
   "metadata": {},
   "outputs": [],
   "source": [
    "#(原圖,比較圖)\n",
    "def CompareAlgo(file,file2):\n",
    "    start = time.time()\n",
    "    #確認重複檔名，避免比到舊的\n",
    "    CheckFile(file)\n",
    "    CheckFile(file2)\n",
    "    \n",
    "    #統一大小 function\n",
    "    ChangeSize(file)\n",
    "    ChangeSize(file2)\n",
    "    \n",
    "    #前處理影像 function \n",
    "    ImageProcess(file,1)\n",
    "    ImageProcess(file2,1)\n",
    "    \n",
    "    #設定門檻 function\n",
    "    threshold=CompareThreshold()\n",
    "    \n",
    "    #比對兩張相似度 function\n",
    "    rate=calculate(cv2.imread('Screen/transport/'+file.split(\"/\")[-1]),cv2.imread('Screen/transport/'+file2.split(\"/\")[-1]))\n",
    "    print(rate)\n",
    "    #相似度再比對門檻值\n",
    "    if rate<threshold:\n",
    "        return False\n",
    "    if rate>=threshold:\n",
    "        return True\n",
    "\n",
    "    end=time.time()\n"
   ]
  },
  {
   "cell_type": "markdown",
   "metadata": {},
   "source": [
    "## 使用"
   ]
  },
  {
   "cell_type": "code",
   "execution_count": 12,
   "metadata": {},
   "outputs": [
    {
     "name": "stdout",
     "output_type": "stream",
     "text": [
      "1.0\n"
     ]
    },
    {
     "data": {
      "text/plain": [
       "True"
      ]
     },
     "execution_count": 12,
     "metadata": {},
     "output_type": "execute_result"
    }
   ],
   "source": [
    "file1='Screen/transport/OG/OG003.jpg'\n",
    "file2='Screen/transport/OG/OG003.jpg'\n",
    "CompareAlgo(file1,file2)"
   ]
  },
  {
   "cell_type": "code",
   "execution_count": null,
   "metadata": {},
   "outputs": [],
   "source": []
  }
 ],
 "metadata": {
  "kernelspec": {
   "display_name": "Python 3",
   "language": "python",
   "name": "python3"
  },
  "language_info": {
   "codemirror_mode": {
    "name": "ipython",
    "version": 3
   },
   "file_extension": ".py",
   "mimetype": "text/x-python",
   "name": "python",
   "nbconvert_exporter": "python",
   "pygments_lexer": "ipython3",
   "version": "3.7.3"
  }
 },
 "nbformat": 4,
 "nbformat_minor": 2
}

{
 "cells": [
  {
   "cell_type": "code",
   "execution_count": 2,
   "metadata": {},
   "outputs": [],
   "source": [
    "from tkinter import *"
   ]
  },
  {
   "cell_type": "code",
   "execution_count": 9,
   "metadata": {},
   "outputs": [],
   "source": [
    "def msgShow():\n",
    "    label[\"text\"]=\"text message\"\n",
    "    label[\"bg\"]=\"lightyellow\"\n",
    "    label[\"fg\"]=\"blue\"\n",
    "    \n",
    "root=Tk()\n",
    "root.title(\"title\")\n",
    "label=Label(root)\n",
    "btn=Button(root,text=\"print\",command=msgShow)\n",
    "label.pack()\n",
    "btn.pack()\n",
    "\n",
    "root.mainloop()"
   ]
  },
  {
   "cell_type": "markdown",
   "metadata": {},
   "source": [
    "## 計時器"
   ]
  },
  {
   "cell_type": "code",
   "execution_count": 18,
   "metadata": {},
   "outputs": [],
   "source": [
    "counter=0\n",
    "\n",
    "def run_counter(digit):\n",
    "    def counting():\n",
    "        global counter\n",
    "        counter+=1\n",
    "        digit.config(text=str(counter))\n",
    "        digit.after(1000,counting)\n",
    "    counting()\n",
    "\n",
    "root=Tk()\n",
    "root.title(\"title\")\n",
    "digit=Label(root,bg=\"yellow\",fg=\"blue\",height=3,width=10,font=\"Helvetica 20 bold\")\n",
    "digit.pack()\n",
    "run_counter(digit)\n",
    "Button(root,text=\"END\",width=15,command=root.destroy).pack(pady=10)\n",
    "\n",
    "root.mainloop()"
   ]
  },
  {
   "cell_type": "markdown",
   "metadata": {},
   "source": [
    "## 變數練習"
   ]
  },
  {
   "cell_type": "code",
   "execution_count": 8,
   "metadata": {},
   "outputs": [],
   "source": [
    "def btn_hit():\n",
    "    global msg_on\n",
    "    if msg_on == False:\n",
    "        msg_on==True\n",
    "        x.set(\"OK\")\n",
    "    else:\n",
    "        msg_on=False\n",
    "        x.set(\"NG\")\n",
    "        \n",
    "root=Tk()\n",
    "root.title(\"title\")\n",
    "\n",
    "msg_on=False\n",
    "x=StringVar()\n",
    "\n",
    "label=Label(root,textvariable=x,fg=\"blue\",bg=\"lightyellow\",font=\"Verdana 16 bold\",width=25,height=2)\n",
    "label.pack()\n",
    "btn=Button(root,text=\"Click Me\",command=btn_hit)\n",
    "btn.pack()\n",
    "\n",
    "root.mainloop()"
   ]
  },
  {
   "cell_type": "markdown",
   "metadata": {},
   "source": [
    "## 視窗控制(直)"
   ]
  },
  {
   "cell_type": "code",
   "execution_count": 3,
   "metadata": {},
   "outputs": [],
   "source": [
    "root=Tk()\n",
    "root.title(\"title\")\n",
    "#改變fill可以變直(x)或橫(Y)\n",
    "Label(root,text='Miss',bg='red',fg='white',font='Time 20 bold').pack(side=LEFT,fill=Y)\n",
    "Label(root,text='Kent',bg='green',fg='white',font='Arial 20 bold italic').pack(side=LEFT,fill=BOTH,expand=True)\n",
    "Label(root,text='Purd',bg='blue',fg='white',font='Times 20 bold').pack(side=LEFT,fill=Y)\n",
    "\n",
    "root.mainloop()\n"
   ]
  },
  {
   "cell_type": "markdown",
   "metadata": {},
   "source": [
    "## 視窗控制(橫)"
   ]
  },
  {
   "cell_type": "code",
   "execution_count": 9,
   "metadata": {},
   "outputs": [],
   "source": [
    "root=Tk()\n",
    "root.title(\"title\")\n",
    "root.geometry(\"300x200\")\n",
    "#數字代表大小\n",
    "Label(root,text='Miss',bg='red',fg='white',font='Times 24 bold').pack(fill=X)\n",
    "Label(root,text='Kent',bg='green',fg='white',font='Arial 24 bold italic').pack(fill=BOTH,expand=True)\n",
    "Label(root,text='Purd',bg='blue',fg='white',font='Time 24 bold').pack(fill=X)\n",
    "\n",
    "root.mainloop()"
   ]
  },
  {
   "cell_type": "markdown",
   "metadata": {},
   "source": [
    "## columnspan 參數"
   ]
  },
  {
   "cell_type": "code",
   "execution_count": 13,
   "metadata": {},
   "outputs": [],
   "source": [
    "window=Tk()\n",
    "window.title(\"title\")\n",
    "lab1=Label(window,text=\"label1\",relief=\"raised\")\n",
    "lab2=Label(window,text=\"label2\",relief=\"raised\")\n",
    "lab3=Label(window,text=\"label1\",relief=\"raised\")\n",
    "lab4=Label(window,text=\"label1\",relief=\"raised\")\n",
    "lab5=Label(window,text=\"label1\",relief=\"raised\")\n",
    "lab6=Label(window,text=\"label1\",relief=\"raised\")\n",
    "lab7=Label(window,text=\"label1\",relief=\"raised\")\n",
    "lab8=Label(window,text=\"label1\",relief=\"raised\")\n",
    "\n",
    "lab1.grid(row=0,column=0,padx=5,pady=5)\n",
    "lab2.grid(row=0,column=1,padx=5,pady=5)\n",
    "lab3.grid(row=0,column=2,padx=5,pady=5)\n",
    "lab4.grid(row=0,column=3,padx=5,pady=5)\n",
    "lab5.grid(row=1,column=0,padx=5)\n",
    "lab6.grid(row=1,column=1,padx=5)\n",
    "lab7.grid(row=1,column=2,padx=5)\n",
    "lab8.grid(row=1,column=3,padx=5)\n",
    "\n",
    "window.mainloop()"
   ]
  },
  {
   "cell_type": "markdown",
   "metadata": {},
   "source": [
    "## 變數類別"
   ]
  },
  {
   "cell_type": "code",
   "execution_count": 20,
   "metadata": {},
   "outputs": [],
   "source": [
    "def btn_list():\n",
    "    global msg_on\n",
    "    if x.get()==\"\":\n",
    "        x.set(\"OK\")\n",
    "    else:\n",
    "        x.set(\"NG\")\n",
    "        \n",
    "root=Tk()\n",
    "root.title(\"title\")\n",
    "x=StringVar()\n",
    "label=Label(root,textvariable=x,fg=\"blue\",bg=\"lightyellow\",font=\"Verdana 16 bold\",width=25,height=2)\n",
    "label.pack()\n",
    "btn=Button(root,text='Click Me',command=btn_list)\n",
    "btn.pack()\n",
    "\n",
    "root.mainloop()"
   ]
  },
  {
   "cell_type": "markdown",
   "metadata": {},
   "source": [
    "## 選取方塊"
   ]
  },
  {
   "cell_type": "code",
   "execution_count": 23,
   "metadata": {},
   "outputs": [],
   "source": [
    "root=Tk()\n",
    "root.title(\"title\")\n",
    "#建立框架\n",
    "fm=Frame(width=150,height=80,relief=RAISED,borderwidth=5)\n",
    "lab=Label(fm,text=\"Click the program\")\n",
    "lab.pack()\n",
    "python=Checkbutton(fm,text=\"Python\")\n",
    "python.pack(anchor=W)\n",
    "java=Checkbutton(fm,text=\"Java\")\n",
    "java.pack(anchor=W)\n",
    "ruby=Checkbutton(fm,text=\"Ruby\")\n",
    "ruby.pack(anchor=W)\n",
    "fm.pack(padx=10,pady=10)\n",
    "\n",
    "root.mainloop()"
   ]
  },
  {
   "cell_type": "markdown",
   "metadata": {},
   "source": [
    "## 標籤框架"
   ]
  },
  {
   "cell_type": "code",
   "execution_count": 27,
   "metadata": {},
   "outputs": [],
   "source": [
    "root=Tk()\n",
    "root.title(\"title\")\n",
    "\n",
    "msg=\"wellcome\"\n",
    "logo=Label(root,text=msg,compound=BOTTOM)\n",
    "logo.pack()\n",
    "\n",
    "#框架\n",
    "labFrame=LabelFrame(root,text=\"Click\")\n",
    "accountL=Label(labFrame,text=\"Account\")\n",
    "accountL.grid(row=0,column=0)\n",
    "pwdL=Label(labFrame,text=\"Password\")\n",
    "pwdL.grid(row=1,column=0)\n",
    "\n",
    "accountE=Entry(labFrame)\n",
    "accountE.grid(row=0,column=1)\n",
    "pwdE=Entry(labFrame,show=\"*\")\n",
    "pwdE.grid(row=1,column=1,pady=10)\n",
    "labFrame.pack(padx=10,pady=5,ipadx=5,ipady=5)\n",
    "\n",
    "root.mainloop()"
   ]
  },
  {
   "cell_type": "code",
   "execution_count": 30,
   "metadata": {},
   "outputs": [],
   "source": [
    "from tkinter import *\n",
    "from tkinter import messagebox"
   ]
  },
  {
   "cell_type": "markdown",
   "metadata": {},
   "source": [
    "## 警示視窗"
   ]
  },
  {
   "cell_type": "code",
   "execution_count": 36,
   "metadata": {},
   "outputs": [],
   "source": [
    "def myMsg():\n",
    "    #(標題,內文)\n",
    "    messagebox.showinfo(\"My messae\",\"歡迎進入\")\n",
    "\n",
    "window=Tk()\n",
    "window.title(\"title\")\n",
    "window.geometry(\"300x160\")\n",
    "\n",
    "Button(window,text=\"good\",command=myMsg).pack()\n",
    "\n",
    "window.mainloop()"
   ]
  },
  {
   "cell_type": "markdown",
   "metadata": {},
   "source": [
    "## 事件綁定"
   ]
  },
  {
   "cell_type": "code",
   "execution_count": 43,
   "metadata": {},
   "outputs": [],
   "source": [
    "def pythonClicked():\n",
    "    if varPython.get():\n",
    "        lab.config(text=\"click python\")\n",
    "    else:\n",
    "        lab.config(text=\"non click python\")\n",
    "def javaClicked():\n",
    "    if varJava.get():\n",
    "        lab.config(text=\"clickc java\")\n",
    "    else:\n",
    "        lab.config(text=\"non click java\")\n",
    "def buttonClicked():\n",
    "    lab.config(text=\"Button click\")\n",
    "\n",
    "root=Tk()\n",
    "root.title(\"title\")\n",
    "root.geometry(\"300x100\")\n",
    "\n",
    "btn=Button(root,text=\"click me\",command=buttonClicked)\n",
    "btn.pack(anchor=W)\n",
    "varPython=BooleanVar()\n",
    "cbnPython=Checkbutton(root,text=\"Python\",variable=varPython,command=pythonClicked)\n",
    "cbnPython.pack(anchor=W)\n",
    "varJava=BooleanVar()\n",
    "cbnJava=Checkbutton(root,text=\"Java\",variable=varJava,command=javaClicked)\n",
    "cbnJava.pack(anchor=W)\n",
    "\n",
    "lab=Label(root,bg=\"yellow\",fg=\"blue\",height=2,width=12,font=\"Times 16 bold\")\n",
    "lab.pack()\n",
    "\n",
    "root.mainloop()"
   ]
  },
  {
   "cell_type": "markdown",
   "metadata": {},
   "source": [
    "## listbox 排序"
   ]
  },
  {
   "cell_type": "code",
   "execution_count": 47,
   "metadata": {},
   "outputs": [
    {
     "name": "stderr",
     "output_type": "stream",
     "text": [
      "Exception in Tkinter callback\n",
      "Traceback (most recent call last):\n",
      "  File \"C:\\Users\\2102048\\AppData\\Local\\Continuum\\anaconda3\\lib\\tkinter\\__init__.py\", line 1705, in __call__\n",
      "    return self.func(*args)\n",
      "  File \"<ipython-input-47-8600c97862f6>\", line 7, in itemsSorted\n",
      "    sortedList=sorted(listTmp,reverse=revBool)\n",
      "NameError: name 'listTmp' is not defined\n",
      "Exception in Tkinter callback\n",
      "Traceback (most recent call last):\n",
      "  File \"C:\\Users\\2102048\\AppData\\Local\\Continuum\\anaconda3\\lib\\tkinter\\__init__.py\", line 1705, in __call__\n",
      "    return self.func(*args)\n",
      "  File \"<ipython-input-47-8600c97862f6>\", line 7, in itemsSorted\n",
      "    sortedList=sorted(listTmp,reverse=revBool)\n",
      "NameError: name 'listTmp' is not defined\n",
      "Exception in Tkinter callback\n",
      "Traceback (most recent call last):\n",
      "  File \"C:\\Users\\2102048\\AppData\\Local\\Continuum\\anaconda3\\lib\\tkinter\\__init__.py\", line 1705, in __call__\n",
      "    return self.func(*args)\n",
      "  File \"<ipython-input-47-8600c97862f6>\", line 7, in itemsSorted\n",
      "    sortedList=sorted(listTmp,reverse=revBool)\n",
      "NameError: name 'listTmp' is not defined\n"
     ]
    }
   ],
   "source": [
    "def itemsSorted():\n",
    "    if (var.get()==True):\n",
    "        revBool=True\n",
    "    else:\n",
    "        revBool=False\n",
    "    listTemp=list(lb.get(0,END))\n",
    "    #執行排序內容\n",
    "    sortedList=sorted(listTmp,reverse=revBool)\n",
    "    lb.delete(0,END)\n",
    "    for item in sortedList:\n",
    "        lb.insert(END,iteam)\n",
    "fruits=[\"Banana\",\"Watermelon\",\"Pineapple\",\"Orange\",\"Grapes\",\"Mango\"]\n",
    "root=Tk()\n",
    "root.title(\"title\")\n",
    "lb=Listbox(root)\n",
    "#建立listbox\n",
    "for fruit in fruits:\n",
    "    lb.insert(END,fruit)\n",
    "lb.pack(padx=10,pady=5)\n",
    "\n",
    "#建立排序按鈕\n",
    "btn=Button(root,text=\"sort\",command=itemsSorted)\n",
    "btn.pack(side=LEFT,padx=10,pady=5)\n",
    "\n",
    "#建立排序設定核取方塊\n",
    "var=BooleanVar()\n",
    "cb=Checkbutton(root,text=\"大到小\",variable=var)\n",
    "cb.pack(side=LEFT)\n",
    "\n",
    "root.mainloop()"
   ]
  },
  {
   "cell_type": "code",
   "execution_count": null,
   "metadata": {},
   "outputs": [],
   "source": []
  }
 ],
 "metadata": {
  "kernelspec": {
   "display_name": "Python 3",
   "language": "python",
   "name": "python3"
  },
  "language_info": {
   "codemirror_mode": {
    "name": "ipython",
    "version": 3
   },
   "file_extension": ".py",
   "mimetype": "text/x-python",
   "name": "python",
   "nbconvert_exporter": "python",
   "pygments_lexer": "ipython3",
   "version": "3.7.3"
  }
 },
 "nbformat": 4,
 "nbformat_minor": 2
}

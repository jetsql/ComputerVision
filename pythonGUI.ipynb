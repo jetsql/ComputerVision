{
 "cells": [
  {
   "cell_type": "code",
   "execution_count": 5,
   "metadata": {},
   "outputs": [],
   "source": [
    "from tkinter import *"
   ]
  },
  {
   "cell_type": "code",
   "execution_count": 9,
   "metadata": {},
   "outputs": [],
   "source": [
    "def msgShow():\n",
    "    label[\"text\"]=\"text message\"\n",
    "    label[\"bg\"]=\"lightyellow\"\n",
    "    label[\"fg\"]=\"blue\"\n",
    "    \n",
    "root=Tk()\n",
    "root.title(\"title\")\n",
    "label=Label(root)\n",
    "btn=Button(root,text=\"print\",command=msgShow)\n",
    "label.pack()\n",
    "btn.pack()\n",
    "\n",
    "root.mainloop()"
   ]
  },
  {
   "cell_type": "markdown",
   "metadata": {},
   "source": [
    "## 計時器"
   ]
  },
  {
   "cell_type": "code",
   "execution_count": 18,
   "metadata": {},
   "outputs": [],
   "source": [
    "counter=0\n",
    "\n",
    "def run_counter(digit):\n",
    "    def counting():\n",
    "        global counter\n",
    "        counter+=1\n",
    "        digit.config(text=str(counter))\n",
    "        digit.after(1000,counting)\n",
    "    counting()\n",
    "\n",
    "root=Tk()\n",
    "root.title(\"title\")\n",
    "digit=Label(root,bg=\"yellow\",fg=\"blue\",height=3,width=10,font=\"Helvetica 20 bold\")\n",
    "digit.pack()\n",
    "run_counter(digit)\n",
    "Button(root,text=\"END\",width=15,command=root.destroy).pack(pady=10)\n",
    "\n",
    "root.mainloop()"
   ]
  },
  {
   "cell_type": "markdown",
   "metadata": {},
   "source": [
    "## 變數練習"
   ]
  },
  {
   "cell_type": "code",
   "execution_count": 8,
   "metadata": {},
   "outputs": [],
   "source": [
    "def btn_hit():\n",
    "    global msg_on\n",
    "    if msg_on == False:\n",
    "        msg_on==True\n",
    "        x.set(\"OK\")\n",
    "    else:\n",
    "        msg_on=False\n",
    "        x.set(\"NG\")\n",
    "        \n",
    "root=Tk()\n",
    "root.title(\"title\")\n",
    "\n",
    "msg_on=False\n",
    "x=StringVar()\n",
    "\n",
    "label=Label(root,textvariable=x,fg=\"blue\",bg=\"lightyellow\",font=\"Verdana 16 bold\",width=25,height=2)\n",
    "label.pack()\n",
    "btn=Button(root,text=\"Click Me\",command=btn_hit)\n",
    "btn.pack()\n",
    "\n",
    "root.mainloop()"
   ]
  },
  {
   "cell_type": "code",
   "execution_count": null,
   "metadata": {},
   "outputs": [],
   "source": [
    "def btn_list():\n",
    "    global msg_on\n",
    "    if msg_on == False:\n",
    "        msg_on==True\n",
    "        x.set(\"OK\")\n",
    "    else:\n",
    "        msg_on=False\n",
    "        x.set(\"NG\")\n",
    "        \n",
    "root=Tk()\n",
    "root.title(\"title\")\n",
    "x=StringVar()\n",
    "label=Label(root,textvariable=x,fg=\"blue\",bg=\"lightyellow\",font=\"Verdana 16 bold\",width=25,height=2)\n",
    "label.pack()\n",
    "btn=Button(root,text=\"Click Me\",command=btn_list)\n",
    "btn.pack()\n",
    "\n",
    "root.mainloop()"
   ]
  },
  {
   "cell_type": "code",
   "execution_count": null,
   "metadata": {},
   "outputs": [],
   "source": []
  },
  {
   "cell_type": "code",
   "execution_count": null,
   "metadata": {},
   "outputs": [],
   "source": []
  }
 ],
 "metadata": {
  "kernelspec": {
   "display_name": "Python 3",
   "language": "python",
   "name": "python3"
  },
  "language_info": {
   "codemirror_mode": {
    "name": "ipython",
    "version": 3
   },
   "file_extension": ".py",
   "mimetype": "text/x-python",
   "name": "python",
   "nbconvert_exporter": "python",
   "pygments_lexer": "ipython3",
   "version": "3.7.3"
  }
 },
 "nbformat": 4,
 "nbformat_minor": 2
}

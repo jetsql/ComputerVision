{
 "cells": [
  {
   "cell_type": "markdown",
   "metadata": {},
   "source": [
    "## import"
   ]
  },
  {
   "cell_type": "code",
   "execution_count": 143,
   "metadata": {},
   "outputs": [],
   "source": [
    "import cv2\n",
    "import numpy as np\n",
    "import PIL\n",
    "from PIL import Image\n",
    "import shutil,os,sys\n",
    "import glob\n",
    "from time import sleep\n",
    "import time\n",
    "import matplotlib.pyplot as plt\n",
    "#import matplotlib.image as ImagePG"
   ]
  },
  {
   "cell_type": "markdown",
   "metadata": {},
   "source": [
    "## 確認檔案"
   ]
  },
  {
   "cell_type": "code",
   "execution_count": 144,
   "metadata": {},
   "outputs": [],
   "source": [
    "def CheckFile(path):\n",
    "    filepath='Screen/transport/'+path.split(\"/\")[-1] \n",
    "    if os.path.isfile(filepath):\n",
    "        os.remove(filepath)"
   ]
  },
  {
   "cell_type": "markdown",
   "metadata": {},
   "source": [
    "## 統一大小"
   ]
  },
  {
   "cell_type": "code",
   "execution_count": 218,
   "metadata": {},
   "outputs": [],
   "source": [
    "#單改一張大小成448*448\n",
    "def ChangeSize(filename):\n",
    "        img=Image.open(filename)\n",
    "        #改變影像\n",
    "        img_new=img.resize((500,500),PIL.Image.ANTIALIAS)\n",
    "        #注意斜線方向\n",
    "        img_new.save('Screen/transport/'+filename.split(\"/\")[-1] )"
   ]
  },
  {
   "cell_type": "markdown",
   "metadata": {},
   "source": [
    "## 測試預處理效果"
   ]
  },
  {
   "cell_type": "code",
   "execution_count": 146,
   "metadata": {},
   "outputs": [],
   "source": [
    "#去紅線、濾波器、銳利化 print 輸出圖結果\n",
    "def Dilate(path):\n",
    "    #灰階讀進\n",
    "    image = cv2.imread(path, 0)\n",
    "    #膨脹\n",
    "    kernel = np.ones((3,3), np.uint8)\n",
    "    #(圖檔案,捲機大小,迭代次數)\n",
    "    dilate = cv2.dilate(image, kernel, iterations = 2)\n",
    "\n",
    "    #降噪(中值濾波)，彌平紅線條\n",
    "    image_mid_blur =cv2.medianBlur(dilate, 9) \n",
    "    #cv2.imwrite('Screen/transport/Test/1-'+path.split(\"/\")[-1],image_mid_blur)\n",
    "    #細線化(凸顯切割線)\n",
    "    kernelN=np.ones((11,11),np.uint8)\n",
    "    Negtive=cv2.erode(image_mid_blur,kernelN,iterations=1)\n",
    "    \n",
    "    #混和拉普拉斯(銳利化)\n",
    "    '''一般銳利效果\n",
    "    Kernel_Laplacian=np.array([[0,-1,0],[-1,5,-1],[0,-1,0]])\n",
    "    temp=cv2.filter2D(Negtive,cv2.CV_32F,Kernel_Laplacian)\n",
    "    Laplacian_Mix=np.uint8(np.clip(temp,0,255))\n",
    "    '''\n",
    "    Kernel_Laplacian2=np.array([[-1,-1,-1], [-1,9,-1], [-1,-1,-1]])\n",
    "    temp2=cv2.filter2D(Negtive,cv2.CV_32F,Kernel_Laplacian2)\n",
    "    Laplacian_Mix2=np.uint8(np.clip(temp2,0,255))\n",
    "    \n",
    "\n",
    "    \n",
    "    #雙邊濾波器\n",
    "    #TwoSide_Process=cv2.bilateralFilter(image_mid_blur,3,50,50)\n",
    "    \n",
    "    #影像疊加(增加畫素，變清晰\n",
    "    #先高斯濾波(影像,捲積核,標準差)，模糊鋸齒狀\n",
    "    Gaussian=cv2.GaussianBlur(Negtive,(0,0),50)\n",
    "    usm = cv2.addWeighted(Negtive, 1.5, Gaussian, -0.5, 0)\n",
    "    \n",
    "    Gaussian2=cv2.GaussianBlur(Negtive,(0,0),100)\n",
    "    usm2 = cv2.addWeighted(Negtive, 1.5, Gaussian2, -0.5, 0)\n",
    "\n",
    "    #取邊緣(下線數值,上線數值)\n",
    "    #canny=cv2.Canny(Gaussian,10,80)\n",
    "    \n",
    "    #先膨脹再減侵蝕\n",
    "    #侵蝕Kernel\n",
    "    #kernelN=np.ones((3,3),np.uint8)\n",
    "    #Negtive=cv2.erode(image_mid_blur,kernelN,iterations=1)\n",
    "    #相減(前面膨脹-侵蝕)\n",
    "    #result=cv2.absdiff(image_mid_blur,Negtive)\n",
    "    \n",
    "    #反二值化更清楚(輸出rst)\n",
    "    #thr,reverse=cv2.threshold(result,4,10,cv2.THRESH_BINARY_INV)\n",
    "\n",
    "    #二值化(輸出forward)\n",
    "    #thr,forward=cv2.threshold(result,4,10,cv2.THRESH_BINARY)\n",
    "    \n",
    "    #截斷設定\n",
    "    #thr,capture=cv2.threshold(result,50,120,cv2.THRESH_TRUNC)\n",
    "    \n",
    "    #超零定址(大於歸0，小於保持)\n",
    "    #thr,supzeort=cv2.threshold(result,100,5,cv2.THRESH_TOZERO_INV)\n",
    "    \n",
    "    #定值設定(大於保持,小於歸0)\n",
    "    #thr,zeort=cv2.threshold(result,4,100,cv2.THRESH_TOZERO)\n",
    "    \n",
    "    #方框濾波\n",
    "    \n",
    "    #連接圖片\n",
    "    #Hstack_Image=np.hstack([Laplacian_Mix,Laplacian_Mix2])\n",
    "    #Hstack_Image2=np.hstack([usm,Negtive])\n",
    "    ''' \n",
    "    #原圖laplase\n",
    "    gray_lap1 = cv2.Laplacian(image, cv2.CV_16S, ksize=3)\n",
    "    dst1 = cv2.convertScaleAbs(gray_lap1) # 轉回uint8\n",
    "\n",
    "    #去除紅線laplase\n",
    "    gray_lap2 = cv2.Laplacian(dilate, cv2.CV_16S, ksize=3)\n",
    "    dst2= cv2.convertScaleAbs(gray_lap2) # 轉回uint8\n",
    "    \n",
    "    #去除紅線+降噪laplase\n",
    "    gray_lap3 = cv2.Laplacian(image_mid_blur, cv2.CV_16S, ksize=3)\n",
    "    dst3 = cv2.convertScaleAbs(gray_lap3) # 轉回uint8\n",
    "    cv2.imwrite('Screen/transport/Test/2-'+path.split(\"/\")[-1],dst3)\n",
    "    '''\n",
    "    \n",
    "    while True:\n",
    "        #cv2.imshow('Input 1',Hstack_Image)\n",
    "        #cv2.imshow('Input 2',Hstack_Image2)\n",
    "        \n",
    "        #cv2.imshow('sharp 1',Laplacian_Mix2)\n",
    "        cv2.imshow('sharp 2',usm)\n",
    "        cv2.imshow('sharp 3',usm2)\n",
    "        \n",
    "        #cv2.imshow('Laplacian 1', dst1)\n",
    "        #cv2.imshow('Laplacian 2', dst2)\n",
    "        #cv2.imshow('Laplacian 3', dst3)\n",
    "\n",
    "        k = cv2.waitKey(0)\n",
    "        if k == 27:\n",
    "            cv2.destroyAllWindows()\n",
    "            break\n",
    "\n"
   ]
  },
  {
   "cell_type": "markdown",
   "metadata": {},
   "source": [
    "## 前處理(去紅線，凸顯特徵)"
   ]
  },
  {
   "cell_type": "code",
   "execution_count": 147,
   "metadata": {},
   "outputs": [],
   "source": [
    "#圖片,要不要存檔\n",
    "def ImageProcess(imgpath,switch):\n",
    "    #灰階讀進\n",
    "    img=cv2.imread('Screen/transport/'+imgpath.split(\"/\")[-1],0)\n",
    "    \n",
    "    #start1 = time.time()\n",
    "    \n",
    "    #膨脹\n",
    "    kernel = np.ones((3,3), np.uint8)\n",
    "    dilate = cv2.dilate(img, kernel, iterations = 1)\n",
    "    \n",
    "    #降噪(中值濾波)，彌平紅線條\n",
    "    image_mid_blur =cv2.medianBlur(dilate, 9) \n",
    "    #end1=time.time()\n",
    "    #print(\"去紅線時間：%f 秒\" % (end1 - start1))\n",
    "    \n",
    "    #start2 = time.time()\n",
    "    #細線化(凸顯切割線)\n",
    "    kernelN=np.ones((11,11),np.uint8)\n",
    "    Negtive=cv2.erode(image_mid_blur,kernelN,iterations=1)\n",
    "\n",
    "    #end2=time.time()\n",
    "    #print(\"細線化時間：%f 秒\" % (end2 - start2))\n",
    "    \n",
    "    #影像疊加(增加畫素，變清晰\n",
    "    #先高斯濾波(影像,捲積核,標準差)，模糊鋸齒狀\n",
    "    #start3 = time.time()\n",
    "    Gaussian=cv2.GaussianBlur(Negtive,(0,0),50)\n",
    "    #end3=time.time()\n",
    "    #print(\"高斯時間：%f 秒\" % (end3 - start3))\n",
    "    \n",
    "    #start4 = time.time()\n",
    "    usm = cv2.addWeighted(Negtive, 1.5, Gaussian, -0.5, 0)\n",
    "    #end4=time.time()\n",
    "    #print(\"疊圖時間：%f 秒\" % (end4 - start4))\n",
    "    \n",
    "    \n",
    "    if switch == 1:\n",
    "        #取檔案名\n",
    "        #split處理檔名\n",
    "        #注意斜線方向\n",
    "        cv2.imwrite('Screen/transport/'+imgpath.split(\"/\")[-1], usm)"
   ]
  },
  {
   "cell_type": "markdown",
   "metadata": {},
   "source": [
    "## CheckSum-計算單通道的直方圖的相似值"
   ]
  },
  {
   "cell_type": "code",
   "execution_count": 190,
   "metadata": {},
   "outputs": [],
   "source": [
    "# 計算單通道的直方圖的相似值 \n",
    "def calculate(image1,image2): \n",
    "    #cv2.calcHist(影像, 通道, 遮罩, 區間數量, 數值範圍)\n",
    "    hist1 = cv2.calcHist([image1],[0],None,[256],[0.0,255.0]) \n",
    "    hist2 = cv2.calcHist([image2],[0],None,[256],[0.0,255.0]) \n",
    "    # 畫圖\n",
    "\n",
    "    plt.plot(range(256),hist1,'r') \n",
    "    plt.plot(range(256),hist2,'b') \n",
    "    plt.show() \n",
    "\n",
    "    \n",
    "    # 計算直方圖的重合度 \n",
    "    degree = 0 \n",
    "    for i in range(len(hist1)): \n",
    "        if hist1[i] != hist2[i]: \n",
    "            degree = degree + (1 - abs(hist1[i]-hist2[i])/max(hist1[i],hist2[i])) \n",
    "        else: \n",
    "            degree = degree + 1 \n",
    "    degree = degree/len(hist1)\n",
    "    \n",
    "    return degree "
   ]
  },
  {
   "cell_type": "markdown",
   "metadata": {},
   "source": [
    "## 設定門檻"
   ]
  },
  {
   "cell_type": "code",
   "execution_count": 149,
   "metadata": {},
   "outputs": [],
   "source": [
    "def CompareThreshold():\n",
    "    #用兩兩比較出的數值當作門檻\n",
    "    #0.6881\n",
    "    rate=calculate(cv2.imread('Screen/compare/c001.jpg'),cv2.imread('Screen/compare/c002.jpg'))\n",
    "    return rate\n"
   ]
  },
  {
   "cell_type": "markdown",
   "metadata": {},
   "source": [
    "## 掩模處理(Image Mask)"
   ]
  },
  {
   "cell_type": "code",
   "execution_count": 174,
   "metadata": {},
   "outputs": [],
   "source": [
    "#--------用字典模仿Switch--------\n",
    "#注意若沒輸入字典中的index會跳error\n",
    "\n",
    "def left_up():#左上\n",
    "        site=np.array([[[400,350],[0,350],[0,0],[400,0]]],dtype=np.int32)\n",
    "        return site\n",
    "def left_lower():#左下\n",
    "        site=np.array([[[400,900],[0,9000],[0,500],[400,500]]],dtype=np.int32)\n",
    "        return site\n",
    "def right_up():#右上\n",
    "        site=np.array([[[930,350],[530,350],[530,0],[950,0]]],dtype=np.int32)\n",
    "        return site\n",
    "def right_lower():#右下\n",
    "        site=np.array([[[950,900],[500,900],[500,500],[950,500]]],dtype=np.int32)\n",
    "        return site\n",
    "def error():\n",
    "    print(\"Keyin Error\")\n",
    "switch={0:left_up,1:left_lower,2:right_up,3:right_lower}\n",
    "#--------用字典模仿switch --------\n",
    "    \n",
    "#擷取影像的其中一塊(暫放先不用)\n",
    "#Input 已經被開啟的影像\n",
    "def ImageMask(img,control):\n",
    "    #顯示像素分布\n",
    "    print(img.shape[:2])\n",
    "    #建構三維模組\n",
    "    #座標順序(x,y) 1:右下  左下 左上 右上 \n",
    "    try:\n",
    "        #使用模仿switch功能\n",
    "        site=switch.get(control,\"error\")()\n",
    "        '''用elif實作switch\n",
    "        if(control=='left_up'):\n",
    "            #左上\n",
    "            site=np.array([[[400,350],[0,350],[0,0],[400,0]]],dtype=np.int32)\n",
    "        elif(control=='left_lower'):\n",
    "            #左下\n",
    "            site=np.array([[[400,900],[0,900],[0,500],[400,500]]],dtype=np.int32)\n",
    "        elif(control=='right_up'):\n",
    "            #右上\n",
    "            site=np.array([[[950,350],[530,350],[530,0],[950,0]]],dtype=np.int32)\n",
    "        elif(control=='right_lower'):\n",
    "            #右下\n",
    "            site=np.array([[[950,900],[500,900],[500,500],[950,500]]],dtype=np.int32)\n",
    "        '''\n",
    "    except NameError as e:\n",
    "        print(\"error\",e)\n",
    "    finally:\n",
    "        im=np.zeros(img.shape[:2],dtype=\"uint8\")\n",
    "    cv2.fillPoly(im,site,255)\n",
    "    \n",
    "    mask=im\n",
    "    while True:\n",
    "        cv2.namedWindow('Mask',cv2.WINDOW_NORMAL)\n",
    "        cv2.imshow('Mask',mask)\n",
    "        masked=cv2.bitwise_and(img,img,mask=mask)\n",
    "        cv2.namedWindow('Mask to Image',cv2.WINDOW_NORMAL)\n",
    "        cv2.imshow('Mask to Image',masked)\n",
    "        k=cv2.waitKey(0)\n",
    "        if k==27:\n",
    "            cv2.destroyAllWindows()\n",
    "            break"
   ]
  },
  {
   "cell_type": "code",
   "execution_count": 176,
   "metadata": {},
   "outputs": [
    {
     "name": "stdout",
     "output_type": "stream",
     "text": [
      "(852, 933)\n"
     ]
    }
   ],
   "source": [
    "'''\n",
    "fileNO0='Screen/OG/OG008.jpg'\n",
    "image=cv2.imread(fileNO0)\n",
    "ImageMask(image,3)\n",
    "'''"
   ]
  },
  {
   "cell_type": "markdown",
   "metadata": {},
   "source": [
    "## 合併比對"
   ]
  },
  {
   "cell_type": "code",
   "execution_count": 194,
   "metadata": {},
   "outputs": [],
   "source": [
    "#(原圖,比較圖)\n",
    "def CompareAlgo(file,file2):\n",
    "    \n",
    "    #確認重複檔名，避免比到舊的\n",
    "    CheckFile(file)\n",
    "    CheckFile(file2)\n",
    "    sleep(1)\n",
    "    #統一大小 function\n",
    "    ChangeSize(file)\n",
    "    ChangeSize(file2)\n",
    "    \n",
    "    #前處理影像 function \n",
    "    ImageProcess(file,1)\n",
    "    ImageProcess(file2,1)\n",
    "    \n",
    "    #設定門檻 function\n",
    "    threshold=0.73399866\n",
    "    #相似度再比對門檻值0.6881+一個浮點數=0.73399866\n",
    "    #threshold+=0.0452596\n",
    "    \n",
    "    #比對兩張相似度 function\n",
    "    rate=calculate(cv2.imread('Screen/transport/'+file.split(\"/\")[-1]),cv2.imread('Screen/transport/'+file2.split(\"/\")[-1]))\n",
    "    print(rate)\n",
    "\n",
    "    #門檻值0.73399866\n",
    "    if rate<threshold:\n",
    "        return False\n",
    "    if rate>=threshold:\n",
    "        return True\n",
    "\n",
    "    #測試時間\n",
    "    '''\n",
    "    start = time.time()\n",
    "    end=time.time()\n",
    "    print(\"執行時間：%f 秒\" % (end - start))\n",
    "\n",
    "    print(threshold)\n",
    "    print(rate)\n",
    "    '''"
   ]
  },
  {
   "cell_type": "markdown",
   "metadata": {},
   "source": [
    "## 使用"
   ]
  },
  {
   "cell_type": "code",
   "execution_count": 200,
   "metadata": {
    "scrolled": true
   },
   "outputs": [
    {
     "data": {
      "image/png": "[encoded data removed]",
      "text/plain": [
       "<Figure size 432x288 with 1 Axes>"
      ]
     },
     "metadata": {
      "needs_background": "light"
     },
     "output_type": "display_data"
    },
    {
     "name": "stdout",
     "output_type": "stream",
     "text": [
      "[0.8388401]\n",
      "相同都沒切  True\n"
     ]
    },
    {
     "data": {
      "image/png": "[encoded data removed]",
      "text/plain": [
       "<Figure size 432x288 with 1 Axes>"
      ]
     },
     "metadata": {
      "needs_background": "light"
     },
     "output_type": "display_data"
    },
    {
     "name": "stdout",
     "output_type": "stream",
     "text": [
      "[0.79242116]\n",
      "相同都有切  True\n"
     ]
    },
    {
     "data": {
      "image/png": "[encoded data removed]",
      "text/plain": [
       "<Figure size 432x288 with 1 Axes>"
      ]
     },
     "metadata": {
      "needs_background": "light"
     },
     "output_type": "display_data"
    },
    {
     "name": "stdout",
     "output_type": "stream",
     "text": [
      "[0.73399866]\n",
      "不同有切沒切_直條狀  True\n"
     ]
    },
    {
     "data": {
      "image/png": "[encoded data removed]",
      "text/plain": [
       "<Figure size 432x288 with 1 Axes>"
      ]
     },
     "metadata": {
      "needs_background": "light"
     },
     "output_type": "display_data"
    },
    {
     "name": "stdout",
     "output_type": "stream",
     "text": [
      "1.0\n",
      "不同有切沒切_橫條狀  True\n"
     ]
    }
   ],
   "source": [
    "\n",
    "#相同(都沒切)\n",
    "fileNO0='Screen/transport/OG/OG001.jpg'\n",
    "fileNO1='Screen/transport/OG/OG002.jpg'\n",
    "#相同(都有切)\n",
    "file1='Screen/transport/OG/OG003.jpg'\n",
    "file2='Screen/transport/OG/OG004.jpg'\n",
    "#不同(有切沒切_直條狀)\n",
    "file3='Screen/transport/OG/OG005.jpg'\n",
    "file4='Screen/transport/OG/OG006.jpg'\n",
    "#不同(有切沒切_橫條狀)\n",
    "file5='Screen/transport/OG/OGT001.jpg'\n",
    "file6='Screen/transport/OG/OGT002.jpg'\n",
    "print(\"相同都沒切 \",CompareAlgo(fileNO0,fileNO1))\n",
    "print(\"相同都有切 \",CompareAlgo(file1,file2))\n",
    "print(\"不同有切沒切_直條狀 \",CompareAlgo(file3,file4))\n",
    "print(\"不同有切沒切_橫條狀 \",CompareAlgo(file5,file6))\n",
    "\n"
   ]
  },
  {
   "cell_type": "code",
   "execution_count": null,
   "metadata": {},
   "outputs": [],
   "source": []
  }
 ],
 "metadata": {
  "kernelspec": {
   "display_name": "Python 3",
   "language": "python",
   "name": "python3"
  },
  "language_info": {
   "codemirror_mode": {
    "name": "ipython",
    "version": 3
   },
   "file_extension": ".py",
   "mimetype": "text/x-python",
   "name": "python",
   "nbconvert_exporter": "python",
   "pygments_lexer": "ipython3",
   "version": "3.7.3"
  }
 },
 "nbformat": 4,
 "nbformat_minor": 2
}

{
 "cells": [
  {
   "cell_type": "code",
   "execution_count": 3,
   "metadata": {},
   "outputs": [],
   "source": [
    "import cv2\n",
    "import numpy as np\n",
    "from matplotlib import pyplot as plt\n",
    "from PIL import Image,ImageDraw\n",
    "import PIL\n",
    "import shutil,os,sys\n",
    "import glob\n",
    "from time import sleep\n",
    "import time"
   ]
  },
  {
   "cell_type": "markdown",
   "metadata": {},
   "source": [
    "## 影像處理(先處理再比對 function)"
   ]
  },
  {
   "cell_type": "code",
   "execution_count": 107,
   "metadata": {},
   "outputs": [],
   "source": [
    "#圖片,要不要存檔\n",
    "def ImageProcess(imgpath,switch):\n",
    "    img=cv2.imread(imgpath)\n",
    "    Lower = np.array([0, 0, 100])\n",
    "    Upper = np.array([40, 40, 255])\n",
    "    \n",
    "    #//////邊緣偵測//////\n",
    "    gray = cv2.cvtColor(img, cv2.COLOR_BGR2GRAY)\n",
    "    #模糊參數\n",
    "    blurred = cv2.GaussianBlur(gray, (5, 5), 0)\n",
    "    #邊緣檢測參數(門檻1,門檻2)\n",
    "    img_canny = cv2.Canny(blurred, 10, 60)\n",
    "    #//////邊緣偵測//////\n",
    "    \n",
    "    #//////影像梯度////////\n",
    "    #Sobelx運算x軸，計算水平\n",
    "    sobelx=cv2.Sobel(img,cv2.CV_64F,1,0,ksize=3)\n",
    "    #cv_show(sobelx,'sobelx1')\n",
    "\n",
    "    #取絕對值\n",
    "    sobelx=cv2.Sobel(img,cv2.CV_64F,1,0,ksize=3)\n",
    "    sobelx=cv2.convertScaleAbs(sobelx)\n",
    "    #cv_show(sobelx,'sobelx2')\n",
    "\n",
    "    #Sobelx運算y軸，計算垂直\n",
    "    sobely=cv2.Sobel(img,cv2.CV_64F,0,1,ksize=3)\n",
    "    sobely=cv2.convertScaleAbs(sobely)\n",
    "    #cv_show(sobely,'sobely')\n",
    "\n",
    "    #求和\n",
    "    sobelAdd=cv2.addWeighted(sobelx,0.5,sobelx,0.5,0)\n",
    "    #//////影像梯度////////\n",
    "    \n",
    "    #/////Laplacian//////\n",
    "    gray_lap = cv2.Laplacian(img, cv2.CV_16S, ksize=3)\n",
    "    dst = cv2.convertScaleAbs(gray_lap) # 轉回uint8\n",
    "    #/////Laplacian//////\n",
    "    \n",
    "    #/////存檔/////\n",
    "    if switch == 1:\n",
    "        #////測試流水號取檔名/////\n",
    "        #resulttime = time.strftime(\"%M_%S_\",time.localtime())\n",
    "        #outname=\"_\"+str('{:0>3d}').format(1)+'.jpg'\n",
    "        #cv2.imwrite('Screen/transport/'+resulttime+\"1_\"+outname,img_canny)\n",
    "        #////測試流水號取檔名/////\n",
    "        #取檔案名\n",
    "        #split處理檔名\n",
    "        cv2.imwrite('Screen/transport/'+\"1_\"+imgpath.split(\"/\")[-1],img_canny)\n",
    "        cv2.imwrite('Screen/transport/'+\"2_\"+imgpath.split(\"/\")[-1],dst)\n",
    "        cv2.imwrite('Screen/transport/'+\"3_\"+imgpath.split(\"/\")[-1],sobelAdd)\n",
    "        \n",
    "    #/////存檔/////\n",
    "    '''\n",
    "    while True:\n",
    "        cv2.imshow('sobel',sobelAdd)\n",
    "        cv2.imshow('OGImage',img)\n",
    "        cv2.imshow('canny',img_canny)\n",
    "        cv2.imshow('Laplacian',dst)\n",
    "        k = cv2.waitKey(0)\n",
    "        if k == 27:\n",
    "            cv2.destroyAllWindows()\n",
    "            break\n",
    "    '''"
   ]
  },
  {
   "cell_type": "code",
   "execution_count": 105,
   "metadata": {},
   "outputs": [],
   "source": [
    "#用numpy讀檔案\n",
    "#沒切\n",
    "#處理影像function\n",
    "ImageProcess('Screen/scan218.jpg',1)\n",
    "#有切\n",
    "#處理影像function\n",
    "ImageProcess('Screen/scan228.jpg',1)"
   ]
  },
  {
   "cell_type": "markdown",
   "metadata": {},
   "source": [
    "# CheckSum 比對2圖方法"
   ]
  },
  {
   "cell_type": "code",
   "execution_count": 6,
   "metadata": {},
   "outputs": [],
   "source": [
    " # 平均雜湊演算法計算 \n",
    "def classify_aHash(image1,image2): \n",
    "    image1 = cv2.resize(image1,(8,8)) \n",
    "    image2 = cv2.resize(image2,(8,8)) \n",
    "    gray1 = cv2.cvtColor(image1,cv2.COLOR_BGR2GRAY) \n",
    "    gray2 = cv2.cvtColor(image2,cv2.COLOR_BGR2GRAY) \n",
    "    hash1 = getHash(gray1) \n",
    "    hash2 = getHash(gray2) \n",
    "    return Hamming_distance(hash1,hash2) \n",
    " \n",
    "def classify_pHash(image1,image2): \n",
    "    image1 = cv2.resize(image1,(32,32)) \n",
    "    image2 = cv2.resize(image2,(32,32)) \n",
    "    gray1 = cv2.cvtColor(image1,cv2.COLOR_BGR2GRAY) \n",
    "    gray2 = cv2.cvtColor(image2,cv2.COLOR_BGR2GRAY) \n",
    "    # 將灰度圖轉為浮點型，再進行dct變換 \n",
    "    dct1 = cv2.dct(np.float32(gray1)) \n",
    "    dct2 = cv2.dct(np.float32(gray2)) \n",
    "    # 取左上角的8*8，這些代表圖片的最低頻率 \n",
    "    # 這個操作等價於c++中利用opencv實現的掩碼操作 \n",
    "    # 在python中進行掩碼操作，可以直接這樣取出影象矩陣的某一部分 \n",
    "    dct1_roi = dct1[0:8,0:8] \n",
    "    dct2_roi = dct2[0:8,0:8] \n",
    "    hash1 = getHash(dct1_roi) \n",
    "    hash2 = getHash(dct2_roi) \n",
    "    return Hamming_distance(hash1,hash2) \n",
    " \n",
    "# 輸入灰度圖，返回hash \n",
    "def getHash(image): \n",
    "    avreage = np.mean(image) \n",
    "    hash = [] \n",
    "    for i in range(image.shape[0]): \n",
    "        for j in range(image.shape[1]): \n",
    "            if image[i,j] > avreage: \n",
    "                hash.append(1) \n",
    "            else: \n",
    "                hash.append(0) \n",
    "    return hash \n",
    " \n",
    "#計算漢明距離 \n",
    "def Hamming_distance(hash1,hash2): \n",
    "    num = 0 \n",
    "    for index in range(len(hash1)): \n",
    "        if hash1[index] != hash2[index]: \n",
    "            num += 1 \n",
    "            return num "
   ]
  },
  {
   "cell_type": "markdown",
   "metadata": {},
   "source": [
    "### CheckSum-計算每個通道的直方圖相似值"
   ]
  },
  {
   "cell_type": "code",
   "execution_count": 81,
   "metadata": {},
   "outputs": [],
   "source": [
    "# 通過得到每個通道的直方圖來計算相似度 \n",
    "def classify_hist_with_split(image1,image2): \n",
    "# 將影象resize後，分離為三個通道，再計算每個通道的相似值 \n",
    "    #也可當Input參數\n",
    "    size = (256,256)\n",
    "    image1 = cv2.resize(image1,size) \n",
    "    image2 = cv2.resize(image2,size) \n",
    "    sub_image1 = cv2.split(image1) \n",
    "    sub_image2 = cv2.split(image2) \n",
    "    sub_data = 0 \n",
    "    for im1,im2 in zip(sub_image1,sub_image2): \n",
    "        sub_data += calculate(im1,im2) \n",
    "        sub_data = sub_data/3 \n",
    "    return sub_data "
   ]
  },
  {
   "cell_type": "markdown",
   "metadata": {},
   "source": [
    "### CheckSum-計算單通道的直方圖的相似值 "
   ]
  },
  {
   "cell_type": "code",
   "execution_count": 92,
   "metadata": {},
   "outputs": [],
   "source": [
    "# 計算單通道的直方圖的相似值 \n",
    "def calculate(image1,image2): \n",
    "    #cv2.calcHist(影像, 通道, 遮罩, 區間數量, 數值範圍)\n",
    "    hist1 = cv2.calcHist([image1],[0],None,[256],[0.0,255.0]) \n",
    "    hist2 = cv2.calcHist([image2],[0],None,[256],[0.0,255.0]) \n",
    "    #////Test///比較因子\n",
    "    '''\n",
    "    print(\"相比大於algo\",(hist1>=hist2).all())\n",
    "    print(\"相比小於於algo\",(hist1<=hist2).all())\n",
    "    print(\"相比相似algo\",(hist1==hist2).all())\n",
    "    '''\n",
    "    # 可以比較下直方圖 \n",
    "    \n",
    "    plt.plot(range(256),hist1,'r') \n",
    "    plt.plot(range(256),hist2,'b') \n",
    "    plt.show() \n",
    "    \n",
    "    # 計算直方圖的重合度 \n",
    "    degree = 0 \n",
    "    for i in range(len(hist1)): \n",
    "        if hist1[i] != hist2[i]: \n",
    "            degree = degree + (1 - abs(hist1[i]-hist2[i])/max(hist1[i],hist2[i])) \n",
    "        else: \n",
    "            degree = degree + 1 \n",
    "    degree = degree/len(hist1)\n",
    "    \n",
    "    #遞迴求比較值\n",
    "    #rate=calculate('Screen/transport/46_44_2__001.jpg','Screen/transport/46_45_2__001.jpg')\n",
    "    return degree "
   ]
  },
  {
   "cell_type": "markdown",
   "metadata": {},
   "source": [
    "### 比較測試(設定門檻去比較)"
   ]
  },
  {
   "cell_type": "code",
   "execution_count": 112,
   "metadata": {},
   "outputs": [
    {
     "data": {
      "image/png": "[encoded data removed]",
      "text/plain": [
       "<Figure size 432x288 with 1 Axes>"
      ]
     },
     "metadata": {
      "needs_background": "light"
     },
     "output_type": "display_data"
    },
    {
     "data": {
      "image/png": "[encoded data removed]",
      "text/plain": [
       "<Figure size 432x288 with 1 Axes>"
      ]
     },
     "metadata": {
      "needs_background": "light"
     },
     "output_type": "display_data"
    },
    {
     "name": "stdout",
     "output_type": "stream",
     "text": [
      "執行時間：0.285579 秒\n",
      "[0.67193174]\n",
      "[0.67193174]\n"
     ]
    }
   ],
   "source": [
    "#單改一張大小\n",
    "def ChangeSize(filename):\n",
    "        img=Image.open(filename)\n",
    "        #尺寸轉換200x200\n",
    "        img_new=img.resize((500,500),PIL.Image.ANTIALIAS)\n",
    "        img_new.save('Screen/transport/'+filename.split(\"/\")[-1] )\n",
    "\n",
    "#1.0\n",
    "'''\n",
    "rate1=calculate(cv2.imread('Screen/transport/46_44_2__001.jpg'),\n",
    "                cv2.imread('Screen/transport/46_44_2__001.jpg'))\n",
    "'''\n",
    "#//////////////////////////////////////////////////////\n",
    "start = time.time()\n",
    "#Input\n",
    "file='Screen/scan231.jpg'\n",
    "file2='Screen/scan232.jpg'\n",
    "#統一大小\n",
    "ChangeSize(file)\n",
    "ChangeSize(file)\n",
    "#處理影像\n",
    "ImageProcess(file,1)\n",
    "ImageProcess(file2,1)\n",
    "#設門檻0.969\n",
    "rate2=calculate(cv2.imread('Screen/transport/'+file.split(\"/\")[-1]),\n",
    "                cv2.imread('Screen/transport/'+file2.split(\"/\")[-1]))\n",
    "\n",
    "#比對兩張相似度\n",
    "rate3=calculate(cv2.imread('Screen/transport/scan231.jpg'),\n",
    "                cv2.imread('Screen/transport/scan232.jpg'))\n",
    "\n",
    "#相似度再比對門檻值0.969\n",
    "if rate3<rate2:\n",
    "    print(False)\n",
    "if rate3>rate2:\n",
    "    print(True)\n",
    "\n",
    "end=time.time()\n",
    "print(\"執行時間：%f 秒\" % (end - start))\n",
    "#//////////////////////////////////////////////////////\n",
    "print(rate2)\n",
    "print(rate3)"
   ]
  },
  {
   "cell_type": "markdown",
   "metadata": {},
   "source": [
    "### CheckSum-灰度直方圖的重和度"
   ]
  },
  {
   "cell_type": "code",
   "execution_count": 38,
   "metadata": {},
   "outputs": [],
   "source": [
    "# 灰度直方圖作為相似比較\n",
    "def classify_gray_hist(image1,image2,size = (256,256)): \n",
    "    degree = 0 \n",
    "# 先計算直方圖 \n",
    "# 幾個引數必須用方括號括起來 \n",
    "# 這裡直接用灰度圖計算直方圖，所以是使用第一個通道， \n",
    "# 也可以進行通道分離後，得到多個通道的直方圖 \n",
    "# bins 取為16 \n",
    "    image1 = cv2.resize(image1,size) \n",
    "    image2 = cv2.resize(image2,size) \n",
    "    hist1 = cv2.calcHist([image1],[0],None,[256],[0.0,255.0]) \n",
    "    hist2 = cv2.calcHist([image2],[0],None,[256],[0.0,255.0]) \n",
    "# 計算直方圖的重合度 \n",
    "    for i in range(len(hist1)):\n",
    "            if hist1[i] != hist2[i]:\n",
    "                degree = degree + (1 - abs(hist1[i]-hist2[i])/max(hist1[i],hist2[i]))\n",
    "            else:\n",
    "                degree = degree + 1 \n",
    "    degree = degree/len(hist1) \n",
    "    return degree \n",
    "    "
   ]
  },
  {
   "cell_type": "markdown",
   "metadata": {},
   "source": [
    "## 使用比對function"
   ]
  },
  {
   "cell_type": "code",
   "execution_count": 39,
   "metadata": {},
   "outputs": [],
   "source": [
    "def Comparison(OG_image,Comparison_image):\n",
    "    img1 = cv2.imread(OG_image) \n",
    "    img2 = cv2.imread(Comparison_image) \n",
    "    #畫圖 \n",
    "    #算數字\n",
    "    degree1=calculate(img1,img2)\n",
    "    #degree2=classify_hist_with_split(img1,img2)\n",
    "    #degree = classify_hist_with_split(img1,img2) \n",
    "    degree3 = classify_aHash(img1,img2) \n",
    "    degree4 = classify_pHash(img1,img2) \n",
    "    print (degree1)\n",
    "    #print (degree2)\n",
    "    print (degree3)\n",
    "    print (degree4)\n",
    "    print(\"---------------\")    "
   ]
  },
  {
   "cell_type": "code",
   "execution_count": 93,
   "metadata": {},
   "outputs": [
    {
     "data": {
      "image/png": "[encoded data removed]",
      "text/plain": [
       "<Figure size 432x288 with 1 Axes>"
      ]
     },
     "metadata": {
      "needs_background": "light"
     },
     "output_type": "display_data"
    },
    {
     "name": "stdout",
     "output_type": "stream",
     "text": [
      "1.0\n",
      "None\n",
      "None\n",
      "---------------\n"
     ]
    },
    {
     "data": {
      "image/png": "[encoded data removed]",
      "text/plain": [
       "<Figure size 432x288 with 1 Axes>"
      ]
     },
     "metadata": {
      "needs_background": "light"
     },
     "output_type": "display_data"
    },
    {
     "name": "stdout",
     "output_type": "stream",
     "text": [
      "[0.96958995]\n",
      "1\n",
      "1\n",
      "---------------\n"
     ]
    },
    {
     "data": {
      "image/png": "[encoded data removed]",
      "text/plain": [
       "<Figure size 432x288 with 1 Axes>"
      ]
     },
     "metadata": {
      "needs_background": "light"
     },
     "output_type": "display_data"
    },
    {
     "name": "stdout",
     "output_type": "stream",
     "text": [
      "[0.654126]\n",
      "1\n",
      "1\n",
      "---------------\n"
     ]
    },
    {
     "data": {
      "image/png": "[encoded data removed]",
      "text/plain": [
       "<Figure size 432x288 with 1 Axes>"
      ]
     },
     "metadata": {
      "needs_background": "light"
     },
     "output_type": "display_data"
    },
    {
     "name": "stdout",
     "output_type": "stream",
     "text": [
      "[0.64586663]\n",
      "1\n",
      "1\n",
      "---------------\n",
      "執行時間：0.483559 秒\n"
     ]
    }
   ],
   "source": [
    "#測試function\n",
    "start = time.time()\n",
    "\n",
    "#同一張canny\n",
    "rate1=Comparison('Screen/transport/46_44_1__001.jpg','Screen/transport/46_44_1__001.jpg')\n",
    "\n",
    "#有切沒切 canny\n",
    "rate2=Comparison('Screen/transport/46_44_1__001.jpg','Screen/transport/46_45_1__001.jpg')\n",
    "\n",
    "#有切沒切 laplacian\n",
    "rate3=Comparison('Screen/transport/46_44_2__001.jpg','Screen/transport/46_45_2__001.jpg')\n",
    "\n",
    "#有切沒切 Sobel\n",
    "rate4=Comparison('Screen/transport/46_44_3__001.jpg','Screen/transport/46_45_3__001.jpg')\n",
    "\n",
    "#都切，前後差一秒\n",
    "#rate2=Comparison('Screen\\scan217.jpg','Screen/scan218.jpg')\n",
    "\n",
    "end=time.time()\n",
    "print(\"執行時間：%f 秒\" % (end - start))"
   ]
  },
  {
   "cell_type": "code",
   "execution_count": null,
   "metadata": {},
   "outputs": [],
   "source": [
    "\n"
   ]
  },
  {
   "cell_type": "markdown",
   "metadata": {},
   "source": [
    "### 測試單純截圖(壞掉)"
   ]
  },
  {
   "cell_type": "code",
   "execution_count": null,
   "metadata": {},
   "outputs": [],
   "source": [
    "i=0\n",
    "'''\n",
    "while True:\n",
    "    if cv2.waitKey(1) == ord('a'):\n",
    "        path='Screen\\\\'\n",
    "        time=time.strftime(\"%M:%S %p\", time.localtime())\n",
    "        filename=str('{:0>3d}'+time).format(i+1)\n",
    "        Scann_Aera(path,filename,switch,100,250,650,720)\n",
    "    cv2.destroyAllWindows()\n",
    "    if key == 113 or key==81:  #按 q 鍵結束\n",
    "        break\n",
    "'''\n",
    "cap = cv2.VideoCapture('x-ray/2021-02-19 11-29-36  T111043BA.mp4')\n",
    "print(\"Start\")\n",
    "while cap.isOpened():\n",
    "    ret, frame = cap.read()\n",
    "    if not ret:\n",
    "        print(\"Eed\")\n",
    "        break\n",
    "    cv2.imshow('frame', frame)\n",
    "    key = cv2.waitKey(0)\n",
    "    if key == 113:\n",
    "        path='Screen\\\\'\n",
    "        time=time.strftime(\"%M:%S %p\", time.localtime())\n",
    "        filename=str('{:0>3d}'+time).format(i+1)\n",
    "        Scann_Aera(path,filename,1,100,250,650,720)\n",
    "    if key==81:\n",
    "        print(\"Eed\")\n",
    "        break\n",
    "cap.release()\n",
    "cv2.destroyAllWindows()"
   ]
  }
 ],
 "metadata": {
  "kernelspec": {
   "display_name": "Python 3",
   "language": "python",
   "name": "python3"
  },
  "language_info": {
   "codemirror_mode": {
    "name": "ipython",
    "version": 3
   },
   "file_extension": ".py",
   "mimetype": "text/x-python",
   "name": "python",
   "nbconvert_exporter": "python",
   "pygments_lexer": "ipython3",
   "version": "3.7.3"
  }
 },
 "nbformat": 4,
 "nbformat_minor": 2
}

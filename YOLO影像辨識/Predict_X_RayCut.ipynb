{
 "cells": [
  {
   "cell_type": "code",
   "execution_count": 4,
   "metadata": {},
   "outputs": [
    {
     "name": "stdout",
     "output_type": "stream",
     "text": [
      "WARNING:tensorflow:From C:\\Users\\seanchlin\\AppData\\Roaming\\Python\\Python36\\site-packages\\tensorflow\\python\\framework\\op_def_library.py:263: colocate_with (from tensorflow.python.framework.ops) is deprecated and will be removed in a future version.\n",
      "Instructions for updating:\n",
      "Colocations handled automatically by placer.\n"
     ]
    },
    {
     "name": "stderr",
     "output_type": "stream",
     "text": [
      "C:\\Anaconda3\\lib\\site-packages\\keras\\engine\\saving.py:292: UserWarning: No training configuration found in save file: the model was *not* compiled. Compile it manually.\n",
      "  warnings.warn('No training configuration found in save file: '\n"
     ]
    }
   ],
   "source": [
    "infer_model = load_model('C:/Users/seanchlin/AI_project/X_ray_cutting_IMT/imt_yolo3.h5')"
   ]
  },
  {
   "cell_type": "code",
   "execution_count": 43,
   "metadata": {},
   "outputs": [
    {
     "name": "stdout",
     "output_type": "stream",
     "text": [
      "D:/Work/AI_Train_Data/X_Ray_cutting/predict/t001_03.jpg\n",
      "D:/Work/AI_Train_Data/X_Ray_cutting/output/predict_t001_03.jpg\n",
      "D:/Work/AI_Train_Data/X_Ray_cutting/predict/t001_04.jpg\n",
      "D:/Work/AI_Train_Data/X_Ray_cutting/output/predict_t001_04.jpg\n",
      "D:/Work/AI_Train_Data/X_Ray_cutting/predict/t002_03.jpg\n",
      "D:/Work/AI_Train_Data/X_Ray_cutting/output/predict_t002_03.jpg\n",
      "D:/Work/AI_Train_Data/X_Ray_cutting/predict/t002_04.jpg\n",
      "D:/Work/AI_Train_Data/X_Ray_cutting/output/predict_t002_04.jpg\n",
      "D:/Work/AI_Train_Data/X_Ray_cutting/predict/t003_03.jpg\n",
      "D:/Work/AI_Train_Data/X_Ray_cutting/output/predict_t003_03.jpg\n",
      "D:/Work/AI_Train_Data/X_Ray_cutting/predict/t003_04.jpg\n",
      "D:/Work/AI_Train_Data/X_Ray_cutting/output/predict_t003_04.jpg\n",
      "D:/Work/AI_Train_Data/X_Ray_cutting/predict/t004_03.jpg\n",
      "D:/Work/AI_Train_Data/X_Ray_cutting/output/predict_t004_03.jpg\n",
      "D:/Work/AI_Train_Data/X_Ray_cutting/predict/t004_04.jpg\n",
      "D:/Work/AI_Train_Data/X_Ray_cutting/output/predict_t004_04.jpg\n",
      "D:/Work/AI_Train_Data/X_Ray_cutting/predict/t005_03.jpg\n",
      "D:/Work/AI_Train_Data/X_Ray_cutting/output/predict_t005_03.jpg\n",
      "D:/Work/AI_Train_Data/X_Ray_cutting/predict/t005_04.jpg\n",
      "D:/Work/AI_Train_Data/X_Ray_cutting/output/predict_t005_04.jpg\n",
      "D:/Work/AI_Train_Data/X_Ray_cutting/predict/t006_03.jpg\n",
      "D:/Work/AI_Train_Data/X_Ray_cutting/output/predict_t006_03.jpg\n",
      "D:/Work/AI_Train_Data/X_Ray_cutting/predict/t006_04.jpg\n",
      "D:/Work/AI_Train_Data/X_Ray_cutting/output/predict_t006_04.jpg\n",
      "D:/Work/AI_Train_Data/X_Ray_cutting/predict/t007_03.jpg\n",
      "D:/Work/AI_Train_Data/X_Ray_cutting/output/predict_t007_03.jpg\n",
      "D:/Work/AI_Train_Data/X_Ray_cutting/predict/t007_04.jpg\n",
      "D:/Work/AI_Train_Data/X_Ray_cutting/output/predict_t007_04.jpg\n",
      "D:/Work/AI_Train_Data/X_Ray_cutting/predict/t008_03.jpg\n",
      "D:/Work/AI_Train_Data/X_Ray_cutting/output/predict_t008_03.jpg\n",
      "D:/Work/AI_Train_Data/X_Ray_cutting/predict/t008_04.jpg\n",
      "D:/Work/AI_Train_Data/X_Ray_cutting/output/predict_t008_04.jpg\n"
     ]
    }
   ],
   "source": [
    "# predict\n",
    "import os\n",
    "import argparse\n",
    "import json\n",
    "import cv2\n",
    "from utils.utils import get_yolo_boxes, makedirs\n",
    "from utils.bbox import draw_boxes\n",
    "from keras.models import load_model\n",
    "from tqdm import tqdm\n",
    "import numpy as np\n",
    "import matplotlib.pyplot as plt\n",
    "%matplotlib inline\n",
    "import math\n",
    "import pandas as pd\n",
    "# import logging\n",
    "\n",
    "input_path   = 'D:/Work/AI_Train_Data/X_Ray_cutting/predict/'\n",
    "output_path  = 'D:/Work/AI_Train_Data/X_Ray_cutting/output/'\n",
    "makedirs(output_path)\n",
    "\n",
    "# Set some parameter\n",
    "net_h, net_w = 608, 608 # a multiple of 32, the smaller the faster\n",
    "\n",
    "obj_thresh, nms_thresh = 0.8, 0.45\n",
    "\n",
    "anchors = [55,69, 75,234, 133,240, 136,129, 142,363, 203,290, 228,184, 285,359, 341,260]\n",
    "labels = ['Mark','X','Y'] #0,1,2\n",
    "\n",
    "# Load the model\n",
    "# infer_model = load_model('C:/Users/seanchlin/AI_project/X_ray_cutting_IMT/imt_yolo3.h5')\n",
    "\n",
    "# Read file\n",
    "image_paths = []\n",
    "if os.path.isdir(input_path): \n",
    "    for inp_file in os.listdir(input_path):\n",
    "        image_paths += [input_path + inp_file]\n",
    "else:\n",
    "    image_paths += [input_path]\n",
    "\n",
    "image_paths = [inp_file for inp_file in image_paths if (inp_file[-4:] in ['.jpg', '.png', '.JPG'])]\n",
    "\n",
    "# the main loop\n",
    "for image_path in image_paths:\n",
    "    image = cv2.imread(image_path)\n",
    "    print(image_path)\n",
    "\n",
    "# predict the bounding boxes\n",
    "    boxes = get_yolo_boxes(infer_model, [image], net_h, net_w, anchors, obj_thresh, nms_thresh)[0]\n",
    "\n",
    "# draw bounding boxes on the image using labels\n",
    "    draw_boxes(image, boxes, labels, obj_thresh)  \n",
    "\n",
    "# write the image with bounding boxes to file\n",
    "#     output_img_path = output_path + image_path.split('/')[-1]\n",
    "    output_img_path = output_path +'predict_'+image_path.split('/')[-1]\n",
    "    cv2.imwrite(output_img_path, np.uint8(image))\n",
    "    img = cv2.imread(output_img_path)[:,:,::-1]\n",
    "    print(output_img_path)\n",
    "    "
   ]
  },
  {
   "cell_type": "code",
   "execution_count": 42,
   "metadata": {},
   "outputs": [
    {
     "name": "stdout",
     "output_type": "stream",
     "text": [
      "1 -3 188 509 194\n",
      "2 234 29 251 291\n",
      "0 244 158 327 192\n",
      "1 -25 185 329 197\n",
      "2 237 113 251 432\n"
     ]
    }
   ],
   "source": [
    "labs=[]\n",
    "for m in range(len(boxes)):\n",
    "    if boxes[m].score !=-1:\n",
    "        print(boxes[m].label,boxes[m].xmin,boxes[m].ymin,boxes[m].xmax,boxes[m].ymax)"
   ]
  }
 ],
 "metadata": {
  "kernelspec": {
   "display_name": "Python 3",
   "language": "python",
   "name": "python3"
  },
  "language_info": {
   "codemirror_mode": {
    "name": "ipython",
    "version": 3
   },
   "file_extension": ".py",
   "mimetype": "text/x-python",
   "name": "python",
   "nbconvert_exporter": "python",
   "pygments_lexer": "ipython3",
   "version": "3.6.4"
  }
 },
 "nbformat": 4,
 "nbformat_minor": 2
}
